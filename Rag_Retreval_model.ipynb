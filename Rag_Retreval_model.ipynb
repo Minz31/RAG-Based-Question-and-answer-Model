{
 "cells": [
  {
   "cell_type": "code",
   "execution_count": 2,
   "metadata": {
    "execution": {
     "iopub.execute_input": "2025-02-03T17:31:35.301270Z",
     "iopub.status.busy": "2025-02-03T17:31:35.301003Z",
     "iopub.status.idle": "2025-02-03T17:31:42.824811Z",
     "shell.execute_reply": "2025-02-03T17:31:42.823937Z",
     "shell.execute_reply.started": "2025-02-03T17:31:35.301250Z"
    },
    "trusted": true
   },
   "outputs": [
    {
     "name": "stdout",
     "output_type": "stream",
     "text": [
      "\u001b[2K   \u001b[90m━━━━━━━━━━━━━━━━━━━━━━━━━━━━━━━━━━━━━━━━\u001b[0m \u001b[32m270.2/270.2 kB\u001b[0m \u001b[31m6.7 MB/s\u001b[0m eta \u001b[36m0:00:00\u001b[0m:00:01\u001b[0m\n",
      "\u001b[?25h"
     ]
    }
   ],
   "source": [
    "# Install required packages (uncomment if running for the first time)\n",
    "!pip install -q langchain huggingface_hub transformers torch sentencepiece pypdf docarray"
   ]
  },
  {
   "cell_type": "code",
   "execution_count": 3,
   "metadata": {
    "execution": {
     "iopub.execute_input": "2025-02-03T17:31:42.826337Z",
     "iopub.status.busy": "2025-02-03T17:31:42.826117Z",
     "iopub.status.idle": "2025-02-03T17:31:52.921756Z",
     "shell.execute_reply": "2025-02-03T17:31:52.920861Z",
     "shell.execute_reply.started": "2025-02-03T17:31:42.826316Z"
    },
    "trusted": true
   },
   "outputs": [
    {
     "name": "stdout",
     "output_type": "stream",
     "text": [
      "Collecting langchain-community\n",
      "  Downloading langchain_community-0.3.16-py3-none-any.whl.metadata (2.9 kB)\n",
      "Requirement already satisfied: PyYAML>=5.3 in /usr/local/lib/python3.10/dist-packages (from langchain-community) (6.0.2)\n",
      "Requirement already satisfied: SQLAlchemy<3,>=1.4 in /usr/local/lib/python3.10/dist-packages (from langchain-community) (2.0.36)\n",
      "Requirement already satisfied: aiohttp<4.0.0,>=3.8.3 in /usr/local/lib/python3.10/dist-packages (from langchain-community) (3.11.10)\n",
      "Requirement already satisfied: dataclasses-json<0.7,>=0.5.7 in /usr/local/lib/python3.10/dist-packages (from langchain-community) (0.6.7)\n",
      "Collecting httpx-sse<0.5.0,>=0.4.0 (from langchain-community)\n",
      "  Downloading httpx_sse-0.4.0-py3-none-any.whl.metadata (9.0 kB)\n",
      "Collecting langchain<0.4.0,>=0.3.16 (from langchain-community)\n",
      "  Downloading langchain-0.3.17-py3-none-any.whl.metadata (7.1 kB)\n",
      "Collecting langchain-core<0.4.0,>=0.3.32 (from langchain-community)\n",
      "  Downloading langchain_core-0.3.33-py3-none-any.whl.metadata (6.3 kB)\n",
      "Requirement already satisfied: langsmith<0.4,>=0.1.125 in /usr/local/lib/python3.10/dist-packages (from langchain-community) (0.2.3)\n",
      "Requirement already satisfied: numpy<2,>=1.22.4 in /usr/local/lib/python3.10/dist-packages (from langchain-community) (1.26.4)\n",
      "Collecting pydantic-settings<3.0.0,>=2.4.0 (from langchain-community)\n",
      "  Downloading pydantic_settings-2.7.1-py3-none-any.whl.metadata (3.5 kB)\n",
      "Requirement already satisfied: requests<3,>=2 in /usr/local/lib/python3.10/dist-packages (from langchain-community) (2.32.3)\n",
      "Requirement already satisfied: tenacity!=8.4.0,<10,>=8.1.0 in /usr/local/lib/python3.10/dist-packages (from langchain-community) (9.0.0)\n",
      "Requirement already satisfied: aiohappyeyeballs>=2.3.0 in /usr/local/lib/python3.10/dist-packages (from aiohttp<4.0.0,>=3.8.3->langchain-community) (2.4.4)\n",
      "Requirement already satisfied: aiosignal>=1.1.2 in /usr/local/lib/python3.10/dist-packages (from aiohttp<4.0.0,>=3.8.3->langchain-community) (1.3.2)\n",
      "Requirement already satisfied: async-timeout<6.0,>=4.0 in /usr/local/lib/python3.10/dist-packages (from aiohttp<4.0.0,>=3.8.3->langchain-community) (4.0.3)\n",
      "Requirement already satisfied: attrs>=17.3.0 in /usr/local/lib/python3.10/dist-packages (from aiohttp<4.0.0,>=3.8.3->langchain-community) (24.3.0)\n",
      "Requirement already satisfied: frozenlist>=1.1.1 in /usr/local/lib/python3.10/dist-packages (from aiohttp<4.0.0,>=3.8.3->langchain-community) (1.5.0)\n",
      "Requirement already satisfied: multidict<7.0,>=4.5 in /usr/local/lib/python3.10/dist-packages (from aiohttp<4.0.0,>=3.8.3->langchain-community) (6.1.0)\n",
      "Requirement already satisfied: propcache>=0.2.0 in /usr/local/lib/python3.10/dist-packages (from aiohttp<4.0.0,>=3.8.3->langchain-community) (0.2.1)\n",
      "Requirement already satisfied: yarl<2.0,>=1.17.0 in /usr/local/lib/python3.10/dist-packages (from aiohttp<4.0.0,>=3.8.3->langchain-community) (1.18.3)\n",
      "Requirement already satisfied: marshmallow<4.0.0,>=3.18.0 in /usr/local/lib/python3.10/dist-packages (from dataclasses-json<0.7,>=0.5.7->langchain-community) (3.24.2)\n",
      "Requirement already satisfied: typing-inspect<1,>=0.4.0 in /usr/local/lib/python3.10/dist-packages (from dataclasses-json<0.7,>=0.5.7->langchain-community) (0.9.0)\n",
      "Requirement already satisfied: langchain-text-splitters<0.4.0,>=0.3.3 in /usr/local/lib/python3.10/dist-packages (from langchain<0.4.0,>=0.3.16->langchain-community) (0.3.3)\n",
      "Requirement already satisfied: pydantic<3.0.0,>=2.7.4 in /usr/local/lib/python3.10/dist-packages (from langchain<0.4.0,>=0.3.16->langchain-community) (2.10.3)\n",
      "Requirement already satisfied: jsonpatch<2.0,>=1.33 in /usr/local/lib/python3.10/dist-packages (from langchain-core<0.4.0,>=0.3.32->langchain-community) (1.33)\n",
      "Requirement already satisfied: packaging<25,>=23.2 in /usr/local/lib/python3.10/dist-packages (from langchain-core<0.4.0,>=0.3.32->langchain-community) (24.2)\n",
      "Requirement already satisfied: typing-extensions>=4.7 in /usr/local/lib/python3.10/dist-packages (from langchain-core<0.4.0,>=0.3.32->langchain-community) (4.12.2)\n",
      "Requirement already satisfied: httpx<1,>=0.23.0 in /usr/local/lib/python3.10/dist-packages (from langsmith<0.4,>=0.1.125->langchain-community) (0.28.1)\n",
      "Requirement already satisfied: orjson<4.0.0,>=3.9.14 in /usr/local/lib/python3.10/dist-packages (from langsmith<0.4,>=0.1.125->langchain-community) (3.10.12)\n",
      "Requirement already satisfied: requests-toolbelt<2.0.0,>=1.0.0 in /usr/local/lib/python3.10/dist-packages (from langsmith<0.4,>=0.1.125->langchain-community) (1.0.0)\n",
      "Requirement already satisfied: mkl_fft in /usr/local/lib/python3.10/dist-packages (from numpy<2,>=1.22.4->langchain-community) (1.3.8)\n",
      "Requirement already satisfied: mkl_random in /usr/local/lib/python3.10/dist-packages (from numpy<2,>=1.22.4->langchain-community) (1.2.4)\n",
      "Requirement already satisfied: mkl_umath in /usr/local/lib/python3.10/dist-packages (from numpy<2,>=1.22.4->langchain-community) (0.1.1)\n",
      "Requirement already satisfied: mkl in /usr/local/lib/python3.10/dist-packages (from numpy<2,>=1.22.4->langchain-community) (2025.0.1)\n",
      "Requirement already satisfied: tbb4py in /usr/local/lib/python3.10/dist-packages (from numpy<2,>=1.22.4->langchain-community) (2022.0.0)\n",
      "Requirement already satisfied: mkl-service in /usr/local/lib/python3.10/dist-packages (from numpy<2,>=1.22.4->langchain-community) (2.4.1)\n",
      "Collecting python-dotenv>=0.21.0 (from pydantic-settings<3.0.0,>=2.4.0->langchain-community)\n",
      "  Downloading python_dotenv-1.0.1-py3-none-any.whl.metadata (23 kB)\n",
      "Requirement already satisfied: charset-normalizer<4,>=2 in /usr/local/lib/python3.10/dist-packages (from requests<3,>=2->langchain-community) (3.4.0)\n",
      "Requirement already satisfied: idna<4,>=2.5 in /usr/local/lib/python3.10/dist-packages (from requests<3,>=2->langchain-community) (3.10)\n",
      "Requirement already satisfied: urllib3<3,>=1.21.1 in /usr/local/lib/python3.10/dist-packages (from requests<3,>=2->langchain-community) (2.2.3)\n",
      "Requirement already satisfied: certifi>=2017.4.17 in /usr/local/lib/python3.10/dist-packages (from requests<3,>=2->langchain-community) (2024.12.14)\n",
      "Requirement already satisfied: greenlet!=0.4.17 in /usr/local/lib/python3.10/dist-packages (from SQLAlchemy<3,>=1.4->langchain-community) (3.1.1)\n",
      "Requirement already satisfied: anyio in /usr/local/lib/python3.10/dist-packages (from httpx<1,>=0.23.0->langsmith<0.4,>=0.1.125->langchain-community) (3.7.1)\n",
      "Requirement already satisfied: httpcore==1.* in /usr/local/lib/python3.10/dist-packages (from httpx<1,>=0.23.0->langsmith<0.4,>=0.1.125->langchain-community) (1.0.7)\n",
      "Requirement already satisfied: h11<0.15,>=0.13 in /usr/local/lib/python3.10/dist-packages (from httpcore==1.*->httpx<1,>=0.23.0->langsmith<0.4,>=0.1.125->langchain-community) (0.14.0)\n",
      "Requirement already satisfied: jsonpointer>=1.9 in /usr/local/lib/python3.10/dist-packages (from jsonpatch<2.0,>=1.33->langchain-core<0.4.0,>=0.3.32->langchain-community) (3.0.0)\n",
      "Requirement already satisfied: annotated-types>=0.6.0 in /usr/local/lib/python3.10/dist-packages (from pydantic<3.0.0,>=2.7.4->langchain<0.4.0,>=0.3.16->langchain-community) (0.7.0)\n",
      "Requirement already satisfied: pydantic-core==2.27.1 in /usr/local/lib/python3.10/dist-packages (from pydantic<3.0.0,>=2.7.4->langchain<0.4.0,>=0.3.16->langchain-community) (2.27.1)\n",
      "Requirement already satisfied: mypy-extensions>=0.3.0 in /usr/local/lib/python3.10/dist-packages (from typing-inspect<1,>=0.4.0->dataclasses-json<0.7,>=0.5.7->langchain-community) (1.0.0)\n",
      "Requirement already satisfied: intel-openmp>=2024 in /usr/local/lib/python3.10/dist-packages (from mkl->numpy<2,>=1.22.4->langchain-community) (2024.2.0)\n",
      "Requirement already satisfied: tbb==2022.* in /usr/local/lib/python3.10/dist-packages (from mkl->numpy<2,>=1.22.4->langchain-community) (2022.0.0)\n",
      "Requirement already satisfied: tcmlib==1.* in /usr/local/lib/python3.10/dist-packages (from tbb==2022.*->mkl->numpy<2,>=1.22.4->langchain-community) (1.2.0)\n",
      "Requirement already satisfied: intel-cmplr-lib-rt in /usr/local/lib/python3.10/dist-packages (from mkl_umath->numpy<2,>=1.22.4->langchain-community) (2024.2.0)\n",
      "Requirement already satisfied: intel-cmplr-lib-ur==2024.2.0 in /usr/local/lib/python3.10/dist-packages (from intel-openmp>=2024->mkl->numpy<2,>=1.22.4->langchain-community) (2024.2.0)\n",
      "Requirement already satisfied: sniffio>=1.1 in /usr/local/lib/python3.10/dist-packages (from anyio->httpx<1,>=0.23.0->langsmith<0.4,>=0.1.125->langchain-community) (1.3.1)\n",
      "Requirement already satisfied: exceptiongroup in /usr/local/lib/python3.10/dist-packages (from anyio->httpx<1,>=0.23.0->langsmith<0.4,>=0.1.125->langchain-community) (1.2.2)\n",
      "Downloading langchain_community-0.3.16-py3-none-any.whl (2.5 MB)\n",
      "\u001b[2K   \u001b[90m━━━━━━━━━━━━━━━━━━━━━━━━━━━━━━━━━━━━━━━━\u001b[0m \u001b[32m2.5/2.5 MB\u001b[0m \u001b[31m30.5 MB/s\u001b[0m eta \u001b[36m0:00:00\u001b[0m00:01\u001b[0m00:01\u001b[0m\n",
      "\u001b[?25hDownloading httpx_sse-0.4.0-py3-none-any.whl (7.8 kB)\n",
      "Downloading langchain-0.3.17-py3-none-any.whl (1.0 MB)\n",
      "\u001b[2K   \u001b[90m━━━━━━━━━━━━━━━━━━━━━━━━━━━━━━━━━━━━━━━━\u001b[0m \u001b[32m1.0/1.0 MB\u001b[0m \u001b[31m31.5 MB/s\u001b[0m eta \u001b[36m0:00:00\u001b[0m\n",
      "\u001b[?25hDownloading langchain_core-0.3.33-py3-none-any.whl (412 kB)\n",
      "\u001b[2K   \u001b[90m━━━━━━━━━━━━━━━━━━━━━━━━━━━━━━━━━━━━━━━━\u001b[0m \u001b[32m412.7/412.7 kB\u001b[0m \u001b[31m20.7 MB/s\u001b[0m eta \u001b[36m0:00:00\u001b[0m\n",
      "\u001b[?25hDownloading pydantic_settings-2.7.1-py3-none-any.whl (29 kB)\n",
      "Downloading python_dotenv-1.0.1-py3-none-any.whl (19 kB)\n",
      "Installing collected packages: python-dotenv, httpx-sse, pydantic-settings, langchain-core, langchain, langchain-community\n",
      "  Attempting uninstall: langchain-core\n",
      "    Found existing installation: langchain-core 0.3.25\n",
      "    Uninstalling langchain-core-0.3.25:\n",
      "      Successfully uninstalled langchain-core-0.3.25\n",
      "  Attempting uninstall: langchain\n",
      "    Found existing installation: langchain 0.3.12\n",
      "    Uninstalling langchain-0.3.12:\n",
      "      Successfully uninstalled langchain-0.3.12\n",
      "Successfully installed httpx-sse-0.4.0 langchain-0.3.17 langchain-community-0.3.16 langchain-core-0.3.33 pydantic-settings-2.7.1 python-dotenv-1.0.1\n",
      "Note: you may need to restart the kernel to use updated packages.\n"
     ]
    }
   ],
   "source": [
    "pip install langchain-community"
   ]
  },
  {
   "cell_type": "code",
   "execution_count": 4,
   "metadata": {
    "execution": {
     "iopub.execute_input": "2025-02-03T17:31:52.923608Z",
     "iopub.status.busy": "2025-02-03T17:31:52.923280Z",
     "iopub.status.idle": "2025-02-03T17:31:53.365058Z",
     "shell.execute_reply": "2025-02-03T17:31:53.364392Z",
     "shell.execute_reply.started": "2025-02-03T17:31:52.923581Z"
    },
    "trusted": true
   },
   "outputs": [],
   "source": [
    "import os\n",
    "from langchain.document_loaders import PyPDFLoader\n",
    "from langchain.text_splitter import RecursiveCharacterTextSplitter\n",
    "from langchain.embeddings import HuggingFaceEmbeddings\n",
    "from langchain.vectorstores import DocArrayInMemorySearch\n",
    "from langchain.chains import RetrievalQA\n",
    "from langchain.llms import HuggingFaceHub\n",
    "from langchain.prompts import PromptTemplate\n"
   ]
  },
  {
   "cell_type": "code",
   "execution_count": 6,
   "metadata": {
    "execution": {
     "iopub.execute_input": "2025-02-03T17:32:13.877301Z",
     "iopub.status.busy": "2025-02-03T17:32:13.877036Z",
     "iopub.status.idle": "2025-02-03T17:32:14.546095Z",
     "shell.execute_reply": "2025-02-03T17:32:14.545445Z",
     "shell.execute_reply.started": "2025-02-03T17:32:13.877281Z"
    },
    "trusted": true
   },
   "outputs": [],
   "source": [
    "loader = PyPDFLoader(\"/kaggle/input/egjbbjb/Climate Change.pdf\")  \n",
    "pages = loader.load()"
   ]
  },
  {
   "cell_type": "code",
   "execution_count": 7,
   "metadata": {
    "execution": {
     "iopub.execute_input": "2025-02-03T17:32:15.671046Z",
     "iopub.status.busy": "2025-02-03T17:32:15.670634Z",
     "iopub.status.idle": "2025-02-03T17:32:15.677343Z",
     "shell.execute_reply": "2025-02-03T17:32:15.676530Z",
     "shell.execute_reply.started": "2025-02-03T17:32:15.671024Z"
    },
    "trusted": true
   },
   "outputs": [
    {
     "data": {
      "text/plain": [
       "[Document(metadata={'source': '/kaggle/input/egjbbjb/Climate Change.pdf', 'page': 0, 'page_label': '1'}, page_content=\"Climate Change \\nClimate change is one of the most significant and pressing issues of our time, \\naffecting every aspect of our lives, from the environment to the economy, \\nhealth, and security. It refers to the long-term alteration of temperature and \\ntypical weather patterns in a place. While climate change is a natural \\nphenomenon, human activities, particularly since the Industrial Revolution, \\nhave significantly accelerated its pace, leading to unprecedented and \\npotentially catastrophic changes in the Earth's climate system. \\n \\nThe scientific consensus on climate change is clear: the Earth's climate is \\nwarming, and human activities are the primary driver. The Intergovernmental \\nPanel on Climate Change (IPCC), a leading authority on climate science, has \\nreported that global temperatures have risen by approximately 1.2 degrees \\nCelsius (2.2 degrees Fahrenheit) since the late 19th century. This warming \\ntrend is largely due to the increased concentration of greenhouse gases in the \\natmosphere, primarily carbon dioxide (CO2), methane (CH4), and nitrous oxide \\n(N2O), which trap heat from the sun and prevent it from escaping back into \\nspace. \\n \\nThe burning of fossil fuels such as coal, oil, and natural gas for energy and \\ntransportation is the largest source of greenhouse gas emissions. \\nDeforestation, agriculture, and industrial processes also contribute significantly \\nto these emissions. The increase in greenhouse gases enhances the natural \\ngreenhouse effect, leading to a warming of the Earth's surface and \\natmosphere. This warming has far-reaching impacts on the planet's climate and \\necosystems. \\n \\nOne of the most visible and immediate effects of climate change is the increase \\nin extreme weather events. Heatwaves are becoming more frequent and \\nsevere, causing widespread health problems and increasing the risk of \\nwildfires. Heavy rainfall and flooding events are also on the rise, leading to \\nsignificant damage to infrastructure, homes, and crops. Conversely, some \\nregions are experiencing more prolonged droughts, which threaten water \\nsupplies and agricultural productivity. \"),\n",
       " Document(metadata={'source': '/kaggle/input/egjbbjb/Climate Change.pdf', 'page': 1, 'page_label': '2'}, page_content=' \\nClimate change is also causing long-term changes in weather patterns. For \\nexample, many regions are experiencing shifts in their seasonal cycles, with \\nspring arriving earlier and winters becoming milder. These changes can disrupt \\necosystems and agriculture, as plants and animals may not be able to adapt \\nquickly enough to the new conditions. \\n \\nOne of the most concerning impacts of climate change is sea-level rise, driven \\nby the melting of polar ice caps and glaciers, as well as the thermal expansion \\nof seawater as it warms. Sea levels have already risen by about 20 centimeters \\n(8 inches) since the late 19th century, and the rate of rise is accelerating. This \\nposes a significant threat to coastal communities, as rising seas can lead to \\nmore frequent and severe coastal flooding, erosion, and saltwater intrusion \\ninto freshwater resources. \\n \\nThe warming of the planet also has profound effects on the natural world. \\nMany species are being forced to migrate to higher altitudes or latitudes in \\nsearch of suitable habitats, and some are facing extinction due to the rapid \\npace of change. Coral reefs, which are particularly sensitive to temperature \\nchanges, are experiencing widespread bleaching and die-offs, threatening the \\ndiverse marine life that depends on them. Ocean acidification, caused by the \\nabsorption of excess CO2 by seawater, further exacerbates the stress on marine \\necosystems, particularly shellfish and other organisms that rely on calcium \\ncarbonate for their shells and skeletons. \\n \\nHuman health is also at risk due to climate change. Rising temperatures can \\nexacerbate respiratory and cardiovascular diseases, increase the prevalence of \\nheat-related illnesses, and extend the range of disease-carrying insects like \\nmosquitoes, leading to the spread of diseases such as malaria and dengue \\nfever . Additionally, extreme weather events can cause injury, displacement, and \\nmental health issues. \\n \\nThe economic impacts of climate change are significant and wide-ranging. \\nAgriculture, which is highly dependent on climate conditions, is particularly '),\n",
       " Document(metadata={'source': '/kaggle/input/egjbbjb/Climate Change.pdf', 'page': 2, 'page_label': '3'}, page_content='vulnerable. Changes in temperature and precipitation patterns can reduce crop \\nyields, disrupt food supply chains, and increase the risk of food insecurity. The \\nfishing industry is also affected, as changing ocean temperatures and \\nacidification impact fish populations and marine ecosystems. Furthermore, the \\nincreased frequency and severity of extreme weather events can cause \\nextensive damage to infrastructure, homes, and businesses, leading to \\nsubstantial economic losses. \\n \\nAddressing climate change requires a comprehensive and multi-faceted \\napproach that includes both mitigation and adaptation strategies. Mitigation \\ninvolves reducing greenhouse gas emissions to limit the extent of future \\nclimate change. This can be achieved through various means, such as \\ntransitioning to renewable energy sources like solar, wind, and hydropower, \\nimproving energy efficiency in buildings, transportation, and industry, and \\nprotecting and restoring forests and other natural carbon sinks. \\n \\nCarbon pricing mechanisms, such as carbon taxes and cap-and-trade systems, \\nare also essential tools for reducing emissions. By putting a price on carbon, \\nthese mechanisms create financial incentives for businesses and individuals to \\nreduce their carbon footprint. Additionally, technological innovations, such as \\ncarbon capture and storage (CCS), which involves capturing CO2 emissions \\nfrom power plants and industrial processes and storing them underground, can \\nplay a critical role in mitigating climate change. \\n \\nAdaptation, on the other hand, involves making adjustments to social, \\neconomic, and environmental practices to minimize the damage caused by \\nclimate change and take advantage of any potential benefits. This includes \\nbuilding resilient infrastructure that can withstand extreme weather events, \\ndeveloping drought-resistant crops, and implementing water management \\npractices that ensure a reliable water supply in the face of changing \\nprecipitation patterns. \\n \\nUrban planning is also crucial for adaptation. Cities can reduce their \\nvulnerability to climate change by integrating green infrastructure, such as '),\n",
       " Document(metadata={'source': '/kaggle/input/egjbbjb/Climate Change.pdf', 'page': 3, 'page_label': '4'}, page_content=\"parks, green roofs, and permeable pavements, which can help manage \\nstormwater, reduce urban heat islands, and improve air quality. Coastal \\ncommunities can invest in protective measures, such as seawalls, flood \\nbarriers, and managed retreat, to address the risks posed by sea-level rise. \\n \\nInternational cooperation is vital for effectively addressing climate change, as it \\nis a global issue that requires coordinated efforts across countries. The Paris \\nAgreement, adopted in 2015, represents a significant milestone in global \\nclimate action. Under this agreement, countries have committed to limit global \\nwarming to well below 2 degrees Celsius above pre-industrial levels, with \\nefforts to limit the increase to 1.5 degrees Celsius. The agreement also \\nemphasizes the importance of adaptation, financial support for developing \\ncountries, and regular monitoring and reporting of progress. \\n \\nNational governments play a critical role in implementing climate policies and \\nregulations that align with their international commitments. For example, the \\nEuropean Union has set ambitious targets to reduce greenhouse gas emissions, \\nincrease renewable energy use, and improve energy efficiency through its \\nEuropean Green Deal. In the United States, the Inflation Reduction Act of 2022 \\nincludes measures to reduce emissions, promote clean energy, and enhance \\nclimate resilience. China, the world's largest emitter of greenhouse gases, has \\ncommitted to reaching peak emissions by 2030 and achieving carbon neutrality \\nby 2060. \\n \\nLocal governments and communities also have an essential role in climate \\naction. Cities around the world are taking innovative approaches to reduce \\ntheir carbon footprint and increase resilience. For example, some cities are \\ninvesting in sustainable public transportation systems, promoting electric \\nvehicles, and implementing energy-efficient building codes. Community-based \\ninitiatives, such as urban gardens, renewable energy cooperatives, and local \\nconservation efforts, can also contribute to climate mitigation and adaptation. \\n \\nPublic awareness and education are crucial for building support for climate \\naction and encouraging sustainable behaviors. Schools, media, and community \"),\n",
       " Document(metadata={'source': '/kaggle/input/egjbbjb/Climate Change.pdf', 'page': 4, 'page_label': '5'}, page_content='organizations can play a vital role in raising awareness about the causes and \\nimpacts of climate change and promoting actions that individuals can take to \\nreduce their carbon footprint. This includes simple measures such as reducing \\nenergy consumption, using public transportation, recycling, and supporting \\nsustainable food practices. \\n \\nBehavioral and cultural shifts are essential for achieving long-term climate \\ngoals. Individuals can make a significant impact by adopting sustainable \\nlifestyle choices, such as reducing meat consumption, minimizing waste, and \\nsupporting renewable energy. Businesses also have a critical role to play in \\naddressing climate change. Corporate sustainability initiatives, such as reducing \\ngreenhouse gas emissions, sourcing renewable energy, and implementing \\ncircular economy practices, can significantly contribute to global climate \\nefforts. \\n \\nInnovation and technology are at the heart of addressing climate change. \\nRenewable energy technologies, such as solar and wind power, have become \\nmore efficient and cost-effective, making them viable alternatives to fossil \\nfuels. Advances in energy storage, such as batteries and pumped hydro storage, \\nare crucial for managing the intermittency of renewable energy sources. Smart \\ngrid technology, which enables real-time monitoring and management of \\nelectricity demand, can enhance the efficiency and reliability of power systems. \\n \\nCarbon capture and storage (CCS) technology is another important tool for \\nmitigating climate change. By capturing CO2 emissions from power plants and \\nindustrial processes and storing them underground, CCS can significantly \\nreduce the amount of CO2 released into the atmosphere. Additionally, \\nemerging technologies, such as direct air capture, which removes CO2 directly \\nfrom the air, have the potential to play a significant role in achieving net-zero \\nemissions. \\n \\nInnovation is not limited to technology; it also includes new approaches to \\npolicy, finance, and governance. For example, green finance initiatives, such as \\ngreen bonds and climate investment funds, can mobilize private capital for '),\n",
       " Document(metadata={'source': '/kaggle/input/egjbbjb/Climate Change.pdf', 'page': 5, 'page_label': '6'}, page_content=\"climate-friendly projects. Collaborative governance models that involve \\nmultiple stakeholders, including governments, businesses, and civil society, can \\nensure that climate policies are inclusive and effective. \\n \\nThe journey towards a sustainable future is complex and challenging, but it is \\none that we must undertake for the well-being of our planet and future \\ngenerations. Climate change poses significant risks, but it also presents \\nopportunities for innovation, economic growth, and social progress. By \\nembracing renewable energy, enhancing energy efficiency, protecting natural \\necosystems, and fostering sustainable practices, we can create a resilient and \\nsustainable world. \\n \\nIn conclusion, climate change is an urgent and multifaceted issue that requires \\na coordinated global response. The science is clear: human activities are driving \\nrapid changes in the Earth's climate, with far-reaching impacts on the \\nenvironment, economy, health, and security. Mitigating climate change by \\nreducing greenhouse gas emissions and adapting to its impacts through \\nresilience-building measures are essential for safeguarding our future. Through \\ninternational cooperation, national commitment, local action, and individual \\nresponsibility, we can address the challenges of climate change and create a \\nsustainable future for all. \")]"
      ]
     },
     "execution_count": 7,
     "metadata": {},
     "output_type": "execute_result"
    }
   ],
   "source": [
    "pages"
   ]
  },
  {
   "cell_type": "code",
   "execution_count": 8,
   "metadata": {
    "execution": {
     "iopub.execute_input": "2025-02-03T17:32:22.787988Z",
     "iopub.status.busy": "2025-02-03T17:32:22.787719Z",
     "iopub.status.idle": "2025-02-03T17:32:22.792277Z",
     "shell.execute_reply": "2025-02-03T17:32:22.791637Z",
     "shell.execute_reply.started": "2025-02-03T17:32:22.787969Z"
    },
    "trusted": true
   },
   "outputs": [],
   "source": [
    "text_splitter = RecursiveCharacterTextSplitter(chunk_size=1000, chunk_overlap=200)\n",
    "docs = text_splitter.split_documents(pages)"
   ]
  },
  {
   "cell_type": "code",
   "execution_count": 9,
   "metadata": {
    "execution": {
     "iopub.execute_input": "2025-02-03T17:32:24.237523Z",
     "iopub.status.busy": "2025-02-03T17:32:24.237211Z",
     "iopub.status.idle": "2025-02-03T17:32:24.243507Z",
     "shell.execute_reply": "2025-02-03T17:32:24.242599Z",
     "shell.execute_reply.started": "2025-02-03T17:32:24.237487Z"
    },
    "trusted": true
   },
   "outputs": [
    {
     "data": {
      "text/plain": [
       "[Document(metadata={'source': '/kaggle/input/egjbbjb/Climate Change.pdf', 'page': 0, 'page_label': '1'}, page_content=\"Climate Change \\nClimate change is one of the most significant and pressing issues of our time, \\naffecting every aspect of our lives, from the environment to the economy, \\nhealth, and security. It refers to the long-term alteration of temperature and \\ntypical weather patterns in a place. While climate change is a natural \\nphenomenon, human activities, particularly since the Industrial Revolution, \\nhave significantly accelerated its pace, leading to unprecedented and \\npotentially catastrophic changes in the Earth's climate system. \\n \\nThe scientific consensus on climate change is clear: the Earth's climate is \\nwarming, and human activities are the primary driver. The Intergovernmental \\nPanel on Climate Change (IPCC), a leading authority on climate science, has \\nreported that global temperatures have risen by approximately 1.2 degrees \\nCelsius (2.2 degrees Fahrenheit) since the late 19th century. This warming \\ntrend is largely due to the increased concentration of greenhouse gases in the\"),\n",
       " Document(metadata={'source': '/kaggle/input/egjbbjb/Climate Change.pdf', 'page': 0, 'page_label': '1'}, page_content=\"Celsius (2.2 degrees Fahrenheit) since the late 19th century. This warming \\ntrend is largely due to the increased concentration of greenhouse gases in the \\natmosphere, primarily carbon dioxide (CO2), methane (CH4), and nitrous oxide \\n(N2O), which trap heat from the sun and prevent it from escaping back into \\nspace. \\n \\nThe burning of fossil fuels such as coal, oil, and natural gas for energy and \\ntransportation is the largest source of greenhouse gas emissions. \\nDeforestation, agriculture, and industrial processes also contribute significantly \\nto these emissions. The increase in greenhouse gases enhances the natural \\ngreenhouse effect, leading to a warming of the Earth's surface and \\natmosphere. This warming has far-reaching impacts on the planet's climate and \\necosystems. \\n \\nOne of the most visible and immediate effects of climate change is the increase \\nin extreme weather events. Heatwaves are becoming more frequent and\"),\n",
       " Document(metadata={'source': '/kaggle/input/egjbbjb/Climate Change.pdf', 'page': 0, 'page_label': '1'}, page_content='ecosystems. \\n \\nOne of the most visible and immediate effects of climate change is the increase \\nin extreme weather events. Heatwaves are becoming more frequent and \\nsevere, causing widespread health problems and increasing the risk of \\nwildfires. Heavy rainfall and flooding events are also on the rise, leading to \\nsignificant damage to infrastructure, homes, and crops. Conversely, some \\nregions are experiencing more prolonged droughts, which threaten water \\nsupplies and agricultural productivity.'),\n",
       " Document(metadata={'source': '/kaggle/input/egjbbjb/Climate Change.pdf', 'page': 1, 'page_label': '2'}, page_content='Climate change is also causing long-term changes in weather patterns. For \\nexample, many regions are experiencing shifts in their seasonal cycles, with \\nspring arriving earlier and winters becoming milder. These changes can disrupt \\necosystems and agriculture, as plants and animals may not be able to adapt \\nquickly enough to the new conditions. \\n \\nOne of the most concerning impacts of climate change is sea-level rise, driven \\nby the melting of polar ice caps and glaciers, as well as the thermal expansion \\nof seawater as it warms. Sea levels have already risen by about 20 centimeters \\n(8 inches) since the late 19th century, and the rate of rise is accelerating. This \\nposes a significant threat to coastal communities, as rising seas can lead to \\nmore frequent and severe coastal flooding, erosion, and saltwater intrusion \\ninto freshwater resources. \\n \\nThe warming of the planet also has profound effects on the natural world.'),\n",
       " Document(metadata={'source': '/kaggle/input/egjbbjb/Climate Change.pdf', 'page': 1, 'page_label': '2'}, page_content='more frequent and severe coastal flooding, erosion, and saltwater intrusion \\ninto freshwater resources. \\n \\nThe warming of the planet also has profound effects on the natural world. \\nMany species are being forced to migrate to higher altitudes or latitudes in \\nsearch of suitable habitats, and some are facing extinction due to the rapid \\npace of change. Coral reefs, which are particularly sensitive to temperature \\nchanges, are experiencing widespread bleaching and die-offs, threatening the \\ndiverse marine life that depends on them. Ocean acidification, caused by the \\nabsorption of excess CO2 by seawater, further exacerbates the stress on marine \\necosystems, particularly shellfish and other organisms that rely on calcium \\ncarbonate for their shells and skeletons. \\n \\nHuman health is also at risk due to climate change. Rising temperatures can \\nexacerbate respiratory and cardiovascular diseases, increase the prevalence of'),\n",
       " Document(metadata={'source': '/kaggle/input/egjbbjb/Climate Change.pdf', 'page': 1, 'page_label': '2'}, page_content='Human health is also at risk due to climate change. Rising temperatures can \\nexacerbate respiratory and cardiovascular diseases, increase the prevalence of \\nheat-related illnesses, and extend the range of disease-carrying insects like \\nmosquitoes, leading to the spread of diseases such as malaria and dengue \\nfever . Additionally, extreme weather events can cause injury, displacement, and \\nmental health issues. \\n \\nThe economic impacts of climate change are significant and wide-ranging. \\nAgriculture, which is highly dependent on climate conditions, is particularly'),\n",
       " Document(metadata={'source': '/kaggle/input/egjbbjb/Climate Change.pdf', 'page': 2, 'page_label': '3'}, page_content='vulnerable. Changes in temperature and precipitation patterns can reduce crop \\nyields, disrupt food supply chains, and increase the risk of food insecurity. The \\nfishing industry is also affected, as changing ocean temperatures and \\nacidification impact fish populations and marine ecosystems. Furthermore, the \\nincreased frequency and severity of extreme weather events can cause \\nextensive damage to infrastructure, homes, and businesses, leading to \\nsubstantial economic losses. \\n \\nAddressing climate change requires a comprehensive and multi-faceted \\napproach that includes both mitigation and adaptation strategies. Mitigation \\ninvolves reducing greenhouse gas emissions to limit the extent of future \\nclimate change. This can be achieved through various means, such as \\ntransitioning to renewable energy sources like solar, wind, and hydropower, \\nimproving energy efficiency in buildings, transportation, and industry, and \\nprotecting and restoring forests and other natural carbon sinks.'),\n",
       " Document(metadata={'source': '/kaggle/input/egjbbjb/Climate Change.pdf', 'page': 2, 'page_label': '3'}, page_content='improving energy efficiency in buildings, transportation, and industry, and \\nprotecting and restoring forests and other natural carbon sinks. \\n \\nCarbon pricing mechanisms, such as carbon taxes and cap-and-trade systems, \\nare also essential tools for reducing emissions. By putting a price on carbon, \\nthese mechanisms create financial incentives for businesses and individuals to \\nreduce their carbon footprint. Additionally, technological innovations, such as \\ncarbon capture and storage (CCS), which involves capturing CO2 emissions \\nfrom power plants and industrial processes and storing them underground, can \\nplay a critical role in mitigating climate change. \\n \\nAdaptation, on the other hand, involves making adjustments to social, \\neconomic, and environmental practices to minimize the damage caused by \\nclimate change and take advantage of any potential benefits. This includes \\nbuilding resilient infrastructure that can withstand extreme weather events,'),\n",
       " Document(metadata={'source': '/kaggle/input/egjbbjb/Climate Change.pdf', 'page': 2, 'page_label': '3'}, page_content='climate change and take advantage of any potential benefits. This includes \\nbuilding resilient infrastructure that can withstand extreme weather events, \\ndeveloping drought-resistant crops, and implementing water management \\npractices that ensure a reliable water supply in the face of changing \\nprecipitation patterns. \\n \\nUrban planning is also crucial for adaptation. Cities can reduce their \\nvulnerability to climate change by integrating green infrastructure, such as'),\n",
       " Document(metadata={'source': '/kaggle/input/egjbbjb/Climate Change.pdf', 'page': 3, 'page_label': '4'}, page_content='parks, green roofs, and permeable pavements, which can help manage \\nstormwater, reduce urban heat islands, and improve air quality. Coastal \\ncommunities can invest in protective measures, such as seawalls, flood \\nbarriers, and managed retreat, to address the risks posed by sea-level rise. \\n \\nInternational cooperation is vital for effectively addressing climate change, as it \\nis a global issue that requires coordinated efforts across countries. The Paris \\nAgreement, adopted in 2015, represents a significant milestone in global \\nclimate action. Under this agreement, countries have committed to limit global \\nwarming to well below 2 degrees Celsius above pre-industrial levels, with \\nefforts to limit the increase to 1.5 degrees Celsius. The agreement also \\nemphasizes the importance of adaptation, financial support for developing \\ncountries, and regular monitoring and reporting of progress. \\n \\nNational governments play a critical role in implementing climate policies and'),\n",
       " Document(metadata={'source': '/kaggle/input/egjbbjb/Climate Change.pdf', 'page': 3, 'page_label': '4'}, page_content=\"countries, and regular monitoring and reporting of progress. \\n \\nNational governments play a critical role in implementing climate policies and \\nregulations that align with their international commitments. For example, the \\nEuropean Union has set ambitious targets to reduce greenhouse gas emissions, \\nincrease renewable energy use, and improve energy efficiency through its \\nEuropean Green Deal. In the United States, the Inflation Reduction Act of 2022 \\nincludes measures to reduce emissions, promote clean energy, and enhance \\nclimate resilience. China, the world's largest emitter of greenhouse gases, has \\ncommitted to reaching peak emissions by 2030 and achieving carbon neutrality \\nby 2060. \\n \\nLocal governments and communities also have an essential role in climate \\naction. Cities around the world are taking innovative approaches to reduce \\ntheir carbon footprint and increase resilience. For example, some cities are\"),\n",
       " Document(metadata={'source': '/kaggle/input/egjbbjb/Climate Change.pdf', 'page': 3, 'page_label': '4'}, page_content='action. Cities around the world are taking innovative approaches to reduce \\ntheir carbon footprint and increase resilience. For example, some cities are \\ninvesting in sustainable public transportation systems, promoting electric \\nvehicles, and implementing energy-efficient building codes. Community-based \\ninitiatives, such as urban gardens, renewable energy cooperatives, and local \\nconservation efforts, can also contribute to climate mitigation and adaptation. \\n \\nPublic awareness and education are crucial for building support for climate \\naction and encouraging sustainable behaviors. Schools, media, and community'),\n",
       " Document(metadata={'source': '/kaggle/input/egjbbjb/Climate Change.pdf', 'page': 4, 'page_label': '5'}, page_content='organizations can play a vital role in raising awareness about the causes and \\nimpacts of climate change and promoting actions that individuals can take to \\nreduce their carbon footprint. This includes simple measures such as reducing \\nenergy consumption, using public transportation, recycling, and supporting \\nsustainable food practices. \\n \\nBehavioral and cultural shifts are essential for achieving long-term climate \\ngoals. Individuals can make a significant impact by adopting sustainable \\nlifestyle choices, such as reducing meat consumption, minimizing waste, and \\nsupporting renewable energy. Businesses also have a critical role to play in \\naddressing climate change. Corporate sustainability initiatives, such as reducing \\ngreenhouse gas emissions, sourcing renewable energy, and implementing \\ncircular economy practices, can significantly contribute to global climate \\nefforts. \\n \\nInnovation and technology are at the heart of addressing climate change.'),\n",
       " Document(metadata={'source': '/kaggle/input/egjbbjb/Climate Change.pdf', 'page': 4, 'page_label': '5'}, page_content='circular economy practices, can significantly contribute to global climate \\nefforts. \\n \\nInnovation and technology are at the heart of addressing climate change. \\nRenewable energy technologies, such as solar and wind power, have become \\nmore efficient and cost-effective, making them viable alternatives to fossil \\nfuels. Advances in energy storage, such as batteries and pumped hydro storage, \\nare crucial for managing the intermittency of renewable energy sources. Smart \\ngrid technology, which enables real-time monitoring and management of \\nelectricity demand, can enhance the efficiency and reliability of power systems. \\n \\nCarbon capture and storage (CCS) technology is another important tool for \\nmitigating climate change. By capturing CO2 emissions from power plants and \\nindustrial processes and storing them underground, CCS can significantly \\nreduce the amount of CO2 released into the atmosphere. Additionally,'),\n",
       " Document(metadata={'source': '/kaggle/input/egjbbjb/Climate Change.pdf', 'page': 4, 'page_label': '5'}, page_content='industrial processes and storing them underground, CCS can significantly \\nreduce the amount of CO2 released into the atmosphere. Additionally, \\nemerging technologies, such as direct air capture, which removes CO2 directly \\nfrom the air, have the potential to play a significant role in achieving net-zero \\nemissions. \\n \\nInnovation is not limited to technology; it also includes new approaches to \\npolicy, finance, and governance. For example, green finance initiatives, such as \\ngreen bonds and climate investment funds, can mobilize private capital for'),\n",
       " Document(metadata={'source': '/kaggle/input/egjbbjb/Climate Change.pdf', 'page': 5, 'page_label': '6'}, page_content=\"climate-friendly projects. Collaborative governance models that involve \\nmultiple stakeholders, including governments, businesses, and civil society, can \\nensure that climate policies are inclusive and effective. \\n \\nThe journey towards a sustainable future is complex and challenging, but it is \\none that we must undertake for the well-being of our planet and future \\ngenerations. Climate change poses significant risks, but it also presents \\nopportunities for innovation, economic growth, and social progress. By \\nembracing renewable energy, enhancing energy efficiency, protecting natural \\necosystems, and fostering sustainable practices, we can create a resilient and \\nsustainable world. \\n \\nIn conclusion, climate change is an urgent and multifaceted issue that requires \\na coordinated global response. The science is clear: human activities are driving \\nrapid changes in the Earth's climate, with far-reaching impacts on the\"),\n",
       " Document(metadata={'source': '/kaggle/input/egjbbjb/Climate Change.pdf', 'page': 5, 'page_label': '6'}, page_content=\"a coordinated global response. The science is clear: human activities are driving \\nrapid changes in the Earth's climate, with far-reaching impacts on the \\nenvironment, economy, health, and security. Mitigating climate change by \\nreducing greenhouse gas emissions and adapting to its impacts through \\nresilience-building measures are essential for safeguarding our future. Through \\ninternational cooperation, national commitment, local action, and individual \\nresponsibility, we can address the challenges of climate change and create a \\nsustainable future for all.\")]"
      ]
     },
     "execution_count": 9,
     "metadata": {},
     "output_type": "execute_result"
    }
   ],
   "source": [
    "docs"
   ]
  },
  {
   "cell_type": "code",
   "execution_count": 10,
   "metadata": {
    "execution": {
     "iopub.execute_input": "2025-02-03T17:32:25.066523Z",
     "iopub.status.busy": "2025-02-03T17:32:25.066175Z",
     "iopub.status.idle": "2025-02-03T17:33:16.590609Z",
     "shell.execute_reply": "2025-02-03T17:33:16.589914Z",
     "shell.execute_reply.started": "2025-02-03T17:32:25.066453Z"
    },
    "trusted": true
   },
   "outputs": [
    {
     "name": "stderr",
     "output_type": "stream",
     "text": [
      "<ipython-input-10-3a8dd36e4865>:1: LangChainDeprecationWarning: The class `HuggingFaceEmbeddings` was deprecated in LangChain 0.2.2 and will be removed in 1.0. An updated version of the class exists in the :class:`~langchain-huggingface package and should be used instead. To use it run `pip install -U :class:`~langchain-huggingface` and import as `from :class:`~langchain_huggingface import HuggingFaceEmbeddings``.\n",
      "  embeddings = HuggingFaceEmbeddings(model_name=\"sentence-transformers/all-mpnet-base-v2\")\n"
     ]
    },
    {
     "data": {
      "application/vnd.jupyter.widget-view+json": {
       "model_id": "a4eea3e74a2e4bb99be2a8ac92eee780",
       "version_major": 2,
       "version_minor": 0
      },
      "text/plain": [
       "modules.json:   0%|          | 0.00/349 [00:00<?, ?B/s]"
      ]
     },
     "metadata": {},
     "output_type": "display_data"
    },
    {
     "data": {
      "application/vnd.jupyter.widget-view+json": {
       "model_id": "865161552a984bf9ae111c0990d6a56c",
       "version_major": 2,
       "version_minor": 0
      },
      "text/plain": [
       "config_sentence_transformers.json:   0%|          | 0.00/116 [00:00<?, ?B/s]"
      ]
     },
     "metadata": {},
     "output_type": "display_data"
    },
    {
     "data": {
      "application/vnd.jupyter.widget-view+json": {
       "model_id": "803c5c8ce6624e938fd00231d20b22c1",
       "version_major": 2,
       "version_minor": 0
      },
      "text/plain": [
       "README.md:   0%|          | 0.00/10.6k [00:00<?, ?B/s]"
      ]
     },
     "metadata": {},
     "output_type": "display_data"
    },
    {
     "data": {
      "application/vnd.jupyter.widget-view+json": {
       "model_id": "9dd817380d5140c7919f62ee47881723",
       "version_major": 2,
       "version_minor": 0
      },
      "text/plain": [
       "sentence_bert_config.json:   0%|          | 0.00/53.0 [00:00<?, ?B/s]"
      ]
     },
     "metadata": {},
     "output_type": "display_data"
    },
    {
     "data": {
      "application/vnd.jupyter.widget-view+json": {
       "model_id": "25f523ce20294eada85d3446c9bce32c",
       "version_major": 2,
       "version_minor": 0
      },
      "text/plain": [
       "config.json:   0%|          | 0.00/571 [00:00<?, ?B/s]"
      ]
     },
     "metadata": {},
     "output_type": "display_data"
    },
    {
     "data": {
      "application/vnd.jupyter.widget-view+json": {
       "model_id": "0cb7e64e7f384571a85a66ca9e1c0d1e",
       "version_major": 2,
       "version_minor": 0
      },
      "text/plain": [
       "model.safetensors:   0%|          | 0.00/438M [00:00<?, ?B/s]"
      ]
     },
     "metadata": {},
     "output_type": "display_data"
    },
    {
     "data": {
      "application/vnd.jupyter.widget-view+json": {
       "model_id": "2b99ec8db7c145679898fb32f647a45c",
       "version_major": 2,
       "version_minor": 0
      },
      "text/plain": [
       "tokenizer_config.json:   0%|          | 0.00/363 [00:00<?, ?B/s]"
      ]
     },
     "metadata": {},
     "output_type": "display_data"
    },
    {
     "data": {
      "application/vnd.jupyter.widget-view+json": {
       "model_id": "395fe2123b964a02ba3930879d924474",
       "version_major": 2,
       "version_minor": 0
      },
      "text/plain": [
       "vocab.txt:   0%|          | 0.00/232k [00:00<?, ?B/s]"
      ]
     },
     "metadata": {},
     "output_type": "display_data"
    },
    {
     "data": {
      "application/vnd.jupyter.widget-view+json": {
       "model_id": "a51e2d3b173f4654b87bb5cc66dc3e6d",
       "version_major": 2,
       "version_minor": 0
      },
      "text/plain": [
       "tokenizer.json:   0%|          | 0.00/466k [00:00<?, ?B/s]"
      ]
     },
     "metadata": {},
     "output_type": "display_data"
    },
    {
     "data": {
      "application/vnd.jupyter.widget-view+json": {
       "model_id": "281f9dc19f1345ba9cf3216b0cf7a859",
       "version_major": 2,
       "version_minor": 0
      },
      "text/plain": [
       "special_tokens_map.json:   0%|          | 0.00/239 [00:00<?, ?B/s]"
      ]
     },
     "metadata": {},
     "output_type": "display_data"
    },
    {
     "data": {
      "application/vnd.jupyter.widget-view+json": {
       "model_id": "c7cb607173c148a5b69cbcf6a8187959",
       "version_major": 2,
       "version_minor": 0
      },
      "text/plain": [
       "1_Pooling/config.json:   0%|          | 0.00/190 [00:00<?, ?B/s]"
      ]
     },
     "metadata": {},
     "output_type": "display_data"
    }
   ],
   "source": [
    "embeddings = HuggingFaceEmbeddings(model_name=\"sentence-transformers/all-mpnet-base-v2\")"
   ]
  },
  {
   "cell_type": "code",
   "execution_count": 11,
   "metadata": {
    "execution": {
     "iopub.execute_input": "2025-02-03T17:33:16.592410Z",
     "iopub.status.busy": "2025-02-03T17:33:16.591667Z",
     "iopub.status.idle": "2025-02-03T17:33:16.597584Z",
     "shell.execute_reply": "2025-02-03T17:33:16.596825Z",
     "shell.execute_reply.started": "2025-02-03T17:33:16.592376Z"
    },
    "trusted": true
   },
   "outputs": [
    {
     "data": {
      "text/plain": [
       "HuggingFaceEmbeddings(client=SentenceTransformer(\n",
       "  (0): Transformer({'max_seq_length': 384, 'do_lower_case': False}) with Transformer model: MPNetModel \n",
       "  (1): Pooling({'word_embedding_dimension': 768, 'pooling_mode_cls_token': False, 'pooling_mode_mean_tokens': True, 'pooling_mode_max_tokens': False, 'pooling_mode_mean_sqrt_len_tokens': False, 'pooling_mode_weightedmean_tokens': False, 'pooling_mode_lasttoken': False, 'include_prompt': True})\n",
       "  (2): Normalize()\n",
       "), model_name='sentence-transformers/all-mpnet-base-v2', cache_folder=None, model_kwargs={}, encode_kwargs={}, multi_process=False, show_progress=False)"
      ]
     },
     "execution_count": 11,
     "metadata": {},
     "output_type": "execute_result"
    }
   ],
   "source": [
    "embeddings"
   ]
  },
  {
   "cell_type": "code",
   "execution_count": 12,
   "metadata": {
    "execution": {
     "iopub.execute_input": "2025-02-03T17:33:16.599421Z",
     "iopub.status.busy": "2025-02-03T17:33:16.599214Z",
     "iopub.status.idle": "2025-02-03T17:33:17.874915Z",
     "shell.execute_reply": "2025-02-03T17:33:17.874185Z",
     "shell.execute_reply.started": "2025-02-03T17:33:16.599403Z"
    },
    "trusted": true
   },
   "outputs": [
    {
     "name": "stderr",
     "output_type": "stream",
     "text": [
      "/usr/local/lib/python3.10/dist-packages/pydantic/_migration.py:283: UserWarning: `pydantic.error_wrappers:ValidationError` has been moved to `pydantic:ValidationError`.\n",
      "  warnings.warn(f'`{import_path}` has been moved to `{new_location}`.')\n",
      "INFO - docarray - DB config created\n",
      "INFO - docarray - Runtime config created\n",
      "INFO - docarray - No docs or index file provided. Initializing empty InMemoryExactNNIndex.\n"
     ]
    }
   ],
   "source": [
    "vectorstore = DocArrayInMemorySearch.from_documents(docs, embeddings)"
   ]
  },
  {
   "cell_type": "code",
   "execution_count": 15,
   "metadata": {
    "execution": {
     "iopub.execute_input": "2025-02-03T17:33:39.575374Z",
     "iopub.status.busy": "2025-02-03T17:33:39.574962Z",
     "iopub.status.idle": "2025-02-03T17:33:39.579113Z",
     "shell.execute_reply": "2025-02-03T17:33:39.578426Z",
     "shell.execute_reply.started": "2025-02-03T17:33:39.575346Z"
    },
    "trusted": true
   },
   "outputs": [],
   "source": [
    "retriever = vectorstore.as_retriever(search_kwargs={\"k\": 5})"
   ]
  },
  {
   "cell_type": "code",
   "execution_count": 16,
   "metadata": {
    "execution": {
     "iopub.execute_input": "2025-02-03T17:33:40.476965Z",
     "iopub.status.busy": "2025-02-03T17:33:40.476688Z",
     "iopub.status.idle": "2025-02-03T17:33:40.480593Z",
     "shell.execute_reply": "2025-02-03T17:33:40.479807Z",
     "shell.execute_reply.started": "2025-02-03T17:33:40.476942Z"
    },
    "trusted": true
   },
   "outputs": [],
   "source": [
    "template = \"\"\"Answer the question based on the context below. \n",
    "Provide a **detailed and well-explained** response. If you are unsure, say \"I don't know\".\n",
    "\n",
    "Context: {context}\n",
    "\n",
    "Question: {question}\n",
    "\n",
    "Provide a **thorough** answer with examples, statistics, and insights:\n",
    "\n",
    "Answer:\"\"\"\n",
    "prompt = PromptTemplate.from_template(template)\n"
   ]
  },
  {
   "cell_type": "code",
   "execution_count": 17,
   "metadata": {
    "execution": {
     "iopub.execute_input": "2025-02-03T17:33:41.588422Z",
     "iopub.status.busy": "2025-02-03T17:33:41.588162Z",
     "iopub.status.idle": "2025-02-03T17:33:41.591876Z",
     "shell.execute_reply": "2025-02-03T17:33:41.591205Z",
     "shell.execute_reply.started": "2025-02-03T17:33:41.588402Z"
    },
    "trusted": true
   },
   "outputs": [],
   "source": [
    "os.environ[\"HUGGINGFACEHUB_API_TOKEN\"] = \"YourApitoken\""
   ]
  },
  {
   "cell_type": "code",
   "execution_count": 18,
   "metadata": {
    "execution": {
     "iopub.execute_input": "2025-02-03T17:33:42.521478Z",
     "iopub.status.busy": "2025-02-03T17:33:42.521174Z",
     "iopub.status.idle": "2025-02-03T17:33:43.026214Z",
     "shell.execute_reply": "2025-02-03T17:33:43.025524Z",
     "shell.execute_reply.started": "2025-02-03T17:33:42.521433Z"
    },
    "trusted": true
   },
   "outputs": [
    {
     "name": "stderr",
     "output_type": "stream",
     "text": [
      "<ipython-input-18-feb6792c22c7>:1: LangChainDeprecationWarning: The class `HuggingFaceHub` was deprecated in LangChain 0.0.21 and will be removed in 1.0. An updated version of the class exists in the :class:`~langchain-huggingface package and should be used instead. To use it run `pip install -U :class:`~langchain-huggingface` and import as `from :class:`~langchain_huggingface import HuggingFaceEndpoint``.\n",
      "  llm = HuggingFaceHub(\n"
     ]
    }
   ],
   "source": [
    "llm = HuggingFaceHub(\n",
    "    repo_id=\"google/flan-t5-large\",  # flan-t5-xxl or Llama-2\n",
    "    model_kwargs={\"temperature\": 0.2, \"max_length\": 1500}  \n",
    ")"
   ]
  },
  {
   "cell_type": "code",
   "execution_count": 19,
   "metadata": {
    "execution": {
     "iopub.execute_input": "2025-02-03T17:33:43.027296Z",
     "iopub.status.busy": "2025-02-03T17:33:43.027059Z",
     "iopub.status.idle": "2025-02-03T17:33:43.030807Z",
     "shell.execute_reply": "2025-02-03T17:33:43.030142Z",
     "shell.execute_reply.started": "2025-02-03T17:33:43.027266Z"
    },
    "trusted": true
   },
   "outputs": [],
   "source": [
    "def format_docs(docs):\n",
    "    return \"\\n\\n\".join([doc.page_content for doc in docs])  # Combine retrieved chunks"
   ]
  },
  {
   "cell_type": "code",
   "execution_count": 20,
   "metadata": {
    "execution": {
     "iopub.execute_input": "2025-02-03T17:33:44.085366Z",
     "iopub.status.busy": "2025-02-03T17:33:44.085092Z",
     "iopub.status.idle": "2025-02-03T17:33:44.090105Z",
     "shell.execute_reply": "2025-02-03T17:33:44.089244Z",
     "shell.execute_reply.started": "2025-02-03T17:33:44.085343Z"
    },
    "trusted": true
   },
   "outputs": [],
   "source": [
    "qa_chain = RetrievalQA.from_chain_type(\n",
    "    llm=llm,\n",
    "    chain_type=\"stuff\",\n",
    "    retriever=retriever,\n",
    "    chain_type_kwargs={\"prompt\": prompt},\n",
    "    return_source_documents=True\n",
    ")"
   ]
  },
  {
   "cell_type": "code",
   "execution_count": 21,
   "metadata": {
    "execution": {
     "iopub.execute_input": "2025-02-03T17:33:45.499053Z",
     "iopub.status.busy": "2025-02-03T17:33:45.498785Z",
     "iopub.status.idle": "2025-02-03T17:33:45.503385Z",
     "shell.execute_reply": "2025-02-03T17:33:45.502553Z",
     "shell.execute_reply.started": "2025-02-03T17:33:45.499032Z"
    },
    "trusted": true
   },
   "outputs": [
    {
     "name": "stdout",
     "output_type": "stream",
     "text": [
      "🔥 Climate Change Q&A System (Type 'exit' to quit) 🔥\n",
      "\n"
     ]
    }
   ],
   "source": [
    "print(\"🔥 Climate Change Q&A System (Type 'exit' to quit) 🔥\\n\")"
   ]
  },
  {
   "cell_type": "code",
   "execution_count": 22,
   "metadata": {
    "execution": {
     "iopub.execute_input": "2025-02-03T17:33:47.315591Z",
     "iopub.status.busy": "2025-02-03T17:33:47.315221Z",
     "iopub.status.idle": "2025-02-03T17:36:40.971711Z",
     "shell.execute_reply": "2025-02-03T17:36:40.970796Z",
     "shell.execute_reply.started": "2025-02-03T17:33:47.315560Z"
    },
    "trusted": true
   },
   "outputs": [
    {
     "name": "stdout",
     "output_type": "stream",
     "text": [
      "You:  what is climate change?\n"
     ]
    },
    {
     "name": "stderr",
     "output_type": "stream",
     "text": [
      "<ipython-input-22-e9f2c6b1f242>:11: LangChainDeprecationWarning: The method `Chain.__call__` was deprecated in langchain 0.1.0 and will be removed in 1.0. Use :meth:`~invoke` instead.\n",
      "  result = qa_chain({\"query\": question})\n"
     ]
    },
    {
     "name": "stdout",
     "output_type": "stream",
     "text": [
      "\n",
      "🤖 Bot:\n",
      "📜 **Answer:**\n",
      "It refers to the long-term alteration of temperature and typical weather patterns in a place.\n",
      "\n",
      "📚 **Sources:**\n",
      "- /kaggle/input/egjbbjb/Climate Change.pdf (Page 1)\n",
      "- /kaggle/input/egjbbjb/Climate Change.pdf (Page 2)\n",
      "- /kaggle/input/egjbbjb/Climate Change.pdf (Page 3)\n",
      "\n",
      "————————————————————————————————————————————————————————————\n",
      "\n"
     ]
    },
    {
     "name": "stdout",
     "output_type": "stream",
     "text": [
      "You:  how much temepreature is rised since 19th century?\n"
     ]
    },
    {
     "name": "stdout",
     "output_type": "stream",
     "text": [
      "\n",
      "🤖 Bot:\n",
      "📜 **Answer:**\n",
      "Global temperatures have risen by approximately 1.2 degrees Celsius (2.2 degrees Fahrenheit) since the late 19th century.\n",
      "\n",
      "📚 **Sources:**\n",
      "- /kaggle/input/egjbbjb/Climate Change.pdf (Page 1)\n",
      "- /kaggle/input/egjbbjb/Climate Change.pdf (Page 2)\n",
      "- /kaggle/input/egjbbjb/Climate Change.pdf (Page 3)\n",
      "\n",
      "————————————————————————————————————————————————————————————\n",
      "\n"
     ]
    },
    {
     "name": "stdout",
     "output_type": "stream",
     "text": [
      "You:  exit\n"
     ]
    },
    {
     "name": "stdout",
     "output_type": "stream",
     "text": [
      "👋 Exiting... Have a great day!\n"
     ]
    }
   ],
   "source": [
    "while True:\n",
    "    question = input(\"You: \")\n",
    "    \n",
    "    if question.lower().strip() == 'exit':\n",
    "        print(\"👋 Exiting... Have a great day!\")\n",
    "        break\n",
    "        \n",
    "    if not question.strip():\n",
    "        print(\"⚠️ Please enter a valid question.\\n\")\n",
    "        continue\n",
    "    result = qa_chain({\"query\": question})\n",
    "    print(\"\\n🤖 Bot:\")\n",
    "    print(f\"📜 **Answer:**\\n{result['result']}\\n\")\n",
    "    \n",
    "    print(\"📚 **Sources:**\")\n",
    "    for doc in result['source_documents'][:3]: \n",
    "        print(f\"- {doc.metadata['source']} (Page {doc.metadata['page']+1})\") \n",
    "    \n",
    "    print(\"\\n\" + \"—\" * 60 + \"\\n\")"
   ]
  },
  {
   "cell_type": "markdown",
   "metadata": {},
   "source": [
    "Gujarati "
   ]
  },
  {
   "cell_type": "code",
   "execution_count": 6,
   "metadata": {
    "execution": {
     "iopub.execute_input": "2025-02-03T15:24:59.545148Z",
     "iopub.status.busy": "2025-02-03T15:24:59.544818Z",
     "iopub.status.idle": "2025-02-03T15:24:59.549860Z",
     "shell.execute_reply": "2025-02-03T15:24:59.549077Z",
     "shell.execute_reply.started": "2025-02-03T15:24:59.545125Z"
    },
    "trusted": true
   },
   "outputs": [],
   "source": [
    "import os\n",
    "import torch\n",
    "from transformers import AutoModelForSeq2SeqLM, AutoTokenizer\n",
    "from langchain.document_loaders import PyPDFLoader\n",
    "from langchain.text_splitter import RecursiveCharacterTextSplitter\n",
    "from langchain.embeddings import HuggingFaceEmbeddings\n",
    "from langchain.vectorstores import DocArrayInMemorySearch\n",
    "from langchain.chains import RetrievalQA\n",
    "from langchain.prompts import PromptTemplate"
   ]
  },
  {
   "cell_type": "code",
   "execution_count": 7,
   "metadata": {
    "execution": {
     "iopub.execute_input": "2025-02-03T15:25:00.277606Z",
     "iopub.status.busy": "2025-02-03T15:25:00.277283Z",
     "iopub.status.idle": "2025-02-03T15:25:00.455991Z",
     "shell.execute_reply": "2025-02-03T15:25:00.455314Z",
     "shell.execute_reply.started": "2025-02-03T15:25:00.277576Z"
    },
    "trusted": true
   },
   "outputs": [],
   "source": [
    "pdf_path = \"/kaggle/input/fhcbahbi/Climate Change.en.gu.pdf\"\n",
    "loader = PyPDFLoader(pdf_path)\n",
    "pages = loader.load()"
   ]
  },
  {
   "cell_type": "code",
   "execution_count": 8,
   "metadata": {
    "execution": {
     "iopub.execute_input": "2025-02-03T15:25:09.000092Z",
     "iopub.status.busy": "2025-02-03T15:25:08.999785Z",
     "iopub.status.idle": "2025-02-03T15:25:09.005936Z",
     "shell.execute_reply": "2025-02-03T15:25:09.005044Z",
     "shell.execute_reply.started": "2025-02-03T15:25:09.000068Z"
    },
    "trusted": true
   },
   "outputs": [
    {
     "data": {
      "text/plain": [
       "[Document(metadata={'source': '/kaggle/input/fhcbahbi/Climate Change.en.gu.pdf', 'page': 0, 'page_label': '1'}, page_content='ક્લાઈમેટ ચેન્જ\\nઆબોહવા પિરવર્તન એ આપણા સમયના સૌથી મહત્વપૂર્ણ અને દબાણયુક્ત મુદ્દાઓ પૈકી \\nએક છે, જે આપણા જીવનના દરેક પાસાઓને અસર કરે છે, પર્યાવરણથી લઈને અર્થતંત્ર, \\nઆરોગ્ય અને સુરક્ષા સુધી. તે તાપમાનના લાંબા ગાળાના ફેરફાર અને સ્થાનના લાક્ષિણક \\nહવામાન પેટર્નનો સંદર્ભ આપે છે. જ્યારે આબોહવા પિરવર્તન એ કુદરતી ઘટના છે, ત્યારે \\nમાનવીય પ્રવૃત્િતઓ, ખાસ કરીને ઔદ્યોિગક ક્રાંિત પછીથી, તેની ગિતમાં નોંધપાત્ર વધારો \\nથયો છે, જે પૃથ્વીની આબોહવા પ્રણાલીમાં અભૂતપૂર્વ અને સંભિવત િવનાશક ફેરફારો તરફ \\nદોરી જાય છે.\\nઆબોહવા પિરવર્તન પર વૈજ્ઞાિનક સર્વસંમિત સ્પષ્ટ છે: પૃથ્વીની આબોહવા ગરમ થઈ રહી \\nછે, અને માનવ પ્રવૃત્િતઓ પ્રાથિમક ડ્રાઈવર છે. આબોહવા િવજ્ઞાન પર અગ્રણી ઓથોિરટી \\nઓન ક્લાઈમેટ ચેન્જ (IPCC) પરની આંતર સરકારી પેનલે અહેવાલ આપ્યો છે કે 19મી સદીના \\nઅંતથી વૈશ્િવક તાપમાનમાં આશરે 1.2 િડગ્રી સેલ્િસયસ (2.2 િડગ્રી ફેરનહીટ) વધારો થયો છે. \\nઆ વોર્િમંગ વલણ મોટે ભાગે વાતાવરણમાં ગ્રીનહાઉસ વાયુઓની વધેલી સાંદ્રતાને કારણે છે, \\nમુખ્યત્વે કાર્બન ડાયોક્સાઈડ (CO2), િમથેન (CH4), અને નાઈટ્રસ ઓક્સાઈડ (N2O), જે \\nસૂર્યમાંથી ગરમીને ફસાવે છે અને તેને અવકાશમાં પાછા ફરતા અટકાવે છે. .\\nઊર્જા અને પિરવહન માટે કોલસો, તેલ અને કુદરતી ગેસ જેવા અશ્િમભૂત ઇંધણને બાળવું એ \\nગ્રીનહાઉસ ગેસ ઉત્સર્જનનો સૌથી મોટો સ્ત્રોત છે. વનનાબૂદી, કૃિષ અને ઔદ્યોિગક \\nપ્રક્િરયાઓ પણ આ ઉત્સર્જનમાં નોંધપાત્ર ફાળો આપે છે. ગ્રીનહાઉસ વાયુઓમાં વધારો \\nકુદરતી ગ્રીનહાઉસ અસરને વધારે છે, જે પૃથ્વીની સપાટી અને વાતાવરણને ગરમ કરવા તરફ \\nદોરી જાય છે. આ વોર્િમંગની પૃથ્વીની આબોહવા અને ઇકોિસસ્ટમ પર દૂરગામી અસરો છે.\\nઆબોહવા પિરવર્તનની સૌથી વધુ દૃશ્યમાન અને તાત્કાિલક અસરોમાંની એક અત્યંત \\nહવામાનની ઘટનાઓમાં વધારો છે. હીટવેવ્સ વધુ વારંવાર અને ગંભીર બની રહ્યા છે, જેના કારણે \\nવ્યાપક સ્વાસ્થ્ય સમસ્યાઓ થઈ રહી છે અને જંગલમાં આગ લાગવાનું જોખમ વધી રહ્યું છે. \\nભારે વરસાદ અને પૂરની ઘટનાઓ પણ વધી રહી છે, જેના કારણે ઈન્ફ્રાસ્ટ્રક્ચર, ઘરો અને \\nપાકને નોંધપાત્ર નુકસાન થઈ રહ્યું છે. તેનાથી િવપરીત, કેટલાક પ્રદેશો વધુ લાંબા સમય સુધી \\nદુષ્કાળનો અનુભવ કરી રહ્યા છે, જે પાણી પુરવઠા અને કૃિષ ઉત્પાદકતાને જોખમમાં મૂકે છે.\\nTranslated from English to Gujarati - www.onlinedoctranslator.com'),\n",
       " Document(metadata={'source': '/kaggle/input/fhcbahbi/Climate Change.en.gu.pdf', 'page': 1, 'page_label': '2'}, page_content='આબોહવા પિરવર્તન પણ હવામાનની પેટર્નમાં લાંબા ગાળાના ફેરફારોનું કારણ બની રહ્યું છે. \\nઉદાહરણ તરીકે, ઘણા પ્રદેશો તેમના ઋતુચક્રમાં પિરવર્તન અનુભવી રહ્યા છે, જેમાં વસંત \\nવહેલું આવે છે અને િશયાળો હળવો બને છે. આ ફેરફારો ઇકોિસસ્ટમ અને કૃિષને િવક્ષેિપત કરી \\nશકે છે, કારણ કે છોડ અને પ્રાણીઓ નવી પિરસ્િથિતઓમાં ઝડપથી અનુકૂલન કરી શકતા નથી.\\nઆબોહવા પિરવર્તનની સૌથી વધુ િચંતાજનક અસરોમાંની એક દિરયાની સપાટીમાં વધારો છે, જે \\nધ્રુવીય બરફના ઢગલા અને િહમનદીઓના પીગળવાથી તેમજ દિરયાઈ પાણીના થર્મલ \\nિવસ્તરણને કારણે તે ગરમ થાય છે. 19મી સદીના અંતથી સમુદ્રના સ્તરમાં લગભગ 20 \\nસેન્િટમીટર (8 ઇંચ)નો વધારો થયો છે, અને વૃદ્િધનો દર ઝડપી બની રહ્યો છે. આ દિરયાકાંઠાના \\nસમુદાયો માટે નોંધપાત્ર જોખમ ઊભું કરે છે, કારણ કે વધતા સમુદ્રો વધુ વારંવાર અને ગંભીર \\nદિરયાકાંઠાના પૂર, ધોવાણ અને મીઠા પાણીના સંસાધનોમાં ખારા પાણીની ઘૂસણખોરી તરફ દોરી \\nશકે છે.\\nપૃથ્વીના ઉષ્ણતામાનની કુદરતી દુિનયા પર પણ ઊંડી અસર પડે છે. ઘણી પ્રજાિતઓને યોગ્ય \\nરહેઠાણોની શોધમાં વધુ ઊંચાઈઓ અથવા અક્ષાંશો તરફ સ્થળાંતર કરવાની ફરજ પડી રહી છે, \\nઅને કેટલીક પ્રજાિતઓ પિરવર્તનની ઝડપી ગિતને કારણે લુપ્ત થવાનો સામનો કરી રહી છે. \\nપરવાળાના ખડકો, જે ખાસ કરીને તાપમાનના ફેરફારો પ્રત્યે સંવેદનશીલ હોય છે, તે વ્યાપક \\nિવરંજન અને મૃત્યુનો અનુભવ કરી રહ્યાં છે, જે તેમના પર િનર્ભર િવિવધ દિરયાઈ જીવનને \\nજોખમમાં મૂકે છે. દિરયાઈ પાણી દ્વારા અિધક CO2 ના શોષણને કારણે સમુદ્રનું એિસિડિફકેશન, \\nદિરયાઈ જીવસૃષ્િટ, ખાસ કરીને શેલિફશ અને અન્ય સજીવો કે જેઓ તેમના શેલ અને હાડિપંજર \\nમાટે કેલ્િશયમ કાર્બોનેટ પર આધાર રાખે છે તેના પરના તાણને વધારે છે.\\nજળવાયુ પિરવર્તનના કારણે માનવ સ્વાસ્થ્ય પણ જોખમમાં છે. વધતું તાપમાન શ્વસન અને \\nરક્તવાિહની રોગોમાં વધારો કરી શકે છે, ગરમી-સંબંિધત િબમારીઓનો વ્યાપ વધારી શકે છે અને \\nમચ્છર જેવા રોગ વહન કરતા જંતુઓની શ્રેણીને િવસ્તારી શકે છે, જે મેલેિરયા અને ડેન્ગ્યુ તાવ \\nજેવા રોગોના ફેલાવા તરફ દોરી જાય છે. વધુમાં, ભારે હવામાનની ઘટનાઓ ઈજા, િવસ્થાપન અને \\nમાનિસક સ્વાસ્થ્ય સમસ્યાઓનું કારણ બની શકે છે.\\nઆબોહવા પિરવર્તનની આર્િથક અસરો નોંધપાત્ર અને વ્યાપક છે. કૃિષ, જે આબોહવાની \\nપિરસ્િથિતઓ પર ખૂબ િનર્ભર છે, ખાસ કરીને'),\n",
       " Document(metadata={'source': '/kaggle/input/fhcbahbi/Climate Change.en.gu.pdf', 'page': 2, 'page_label': '3'}, page_content='સંવેદનશીલ તાપમાન અને વરસાદની પેટર્નમાં ફેરફાર પાકની ઉપજ ઘટાડી શકે છે, ખાદ્ય \\nપુરવઠાની સાંકળો િવક્ષેિપત કરી શકે છે અને ખાદ્ય અસુરક્ષાનું જોખમ વધારી શકે છે. \\nમાછીમારી ઉદ્યોગને પણ અસર થાય છે, કારણ કે બદલાતા સમુદ્રી તાપમાન અને એિસડીકરણ \\nમાછલીની વસ્તી અને દિરયાઈ જીવસૃષ્િટને અસર કરે છે. તદુપરાંત, આત્યંિતક હવામાન \\nઘટનાઓની વધેલી આવર્તન અને તીવ્રતા ઇન્ફ્રાસ્ટ્રક્ચર, ઘરો અને વ્યવસાયોને વ્યાપક \\nનુકસાન પહોંચાડી શકે છે, જે નોંધપાત્ર આર્િથક નુકસાન તરફ દોરી જાય છે.\\nઆબોહવા પિરવર્તનને સંબોધવા માટે વ્યાપક અને બહુપક્ષીય અિભગમની જરૂર છે જેમાં \\nશમન અને અનુકૂલન વ્યૂહરચના બંનેનો સમાવેશ થાય છે. શમનમાં ભાિવ આબોહવા \\nપિરવર્તનની મર્યાદાને મર્યાિદત કરવા માટે ગ્રીનહાઉસ ગેસના ઉત્સર્જનને ઘટાડવાનો \\nસમાવેશ થાય છે. આ િવિવધ માધ્યમો દ્વારા પ્રાપ્ત કરી શકાય છે, જેમ કે સૌર, પવન અને \\nહાઇડ્રોપાવર જેવા નવીનીકરણીય ઉર્જા સ્ત્રોતોમાં સંક્રમણ, ઇમારતો, પિરવહન અને \\nઉદ્યોગમાં ઊર્જા કાર્યક્ષમતામાં સુધારો, અને જંગલો અને અન્ય કુદરતી કાર્બન િસંકનું \\nરક્ષણ અને પુનઃસ્થાપન.\\nકાર્બન પ્રાઇસીંગ િમકેિનઝમ્સ, જેમ કે કાર્બન ટેક્સ અને કેપ-એન્ડ-ટ્રેડ િસસ્ટમ્સ પણ \\nઉત્સર્જન ઘટાડવા માટે જરૂરી સાધનો છે. કાર્બન પર િકંમત મૂકીને, આ િમકેિનઝમ્સ વ્યવસાયો \\nઅને વ્યક્િતઓ માટે તેમના કાર્બન ફૂટપ્િરન્ટને ઘટાડવા માટે નાણાકીય પ્રોત્સાહનો બનાવે છે. \\nવધુમાં, કાર્બન કેપ્ચર એન્ડ સ્ટોરેજ (CCS) જેવી તકનીકી નવીનતાઓ, જેમાં પાવર પ્લાન્ટ્સ \\nઅને ઔદ્યોિગક પ્રક્િરયાઓમાંથી CO2 ઉત્સર્જન મેળવવા અને તેને ભૂગર્ભમાં સંગ્રિહત \\nકરવાનો સમાવેશ થાય છે, તે આબોહવા પિરવર્તનને ઘટાડવામાં મહત્વપૂર્ણ ભૂિમકા ભજવી શકે \\nછે.\\nબીજી બાજુ, અનુકૂલન, આબોહવા પિરવર્તનને કારણે થતા નુકસાનને ઘટાડવા અને કોઈપણ \\nસંભિવત લાભોનો લાભ લેવા માટે સામાિજક, આર્િથક અને પર્યાવરણીય પ્રથાઓમાં \\nગોઠવણોનો સમાવેશ કરે છે. આમાં સ્િથિતસ્થાપક ઈન્ફ્રાસ્ટ્રક્ચર બનાવવાનો સમાવેશ \\nથાય છે જે આત્યંિતક હવામાનની ઘટનાઓનો સામનો કરી શકે, દુષ્કાળ-પ્રિતરોધક પાકોનો \\nિવકાસ કરી શકે અને પાણી વ્યવસ્થાપન પદ્ધિતઓનો અમલ કરે જે બદલાતી વરસાદની \\nપેટર્નના ચહેરા પર િવશ્વસનીય પાણી પુરવઠો સુિનશ્િચત કરે.\\nઅનુકૂલન માટે શહેરી આયોજન પણ િનર્ણાયક છે. ગ્રીન ઈન્ફ્રાસ્ટ્રક્ચરને એકીકૃત કરીને \\nશહેરો આબોહવા પિરવર્તન પ્રત્યેની તેમની નબળાઈ ઘટાડી શકે છે, જેમ કે'),\n",
       " Document(metadata={'source': '/kaggle/input/fhcbahbi/Climate Change.en.gu.pdf', 'page': 3, 'page_label': '4'}, page_content='ઉદ્યાનો, લીલી છત અને પારગમ્ય પેવમેન્ટ્સ, જે વરસાદી પાણીનું સંચાલન કરવામાં, શહેરી ગરમીના \\nટાપુઓને ઘટાડવામાં અને હવાની ગુણવત્તા સુધારવામાં મદદ કરી શકે છે. દિરયાકાંઠાના સમુદાયો \\nદિરયાઈ સ્તરના વધારાને કારણે ઉભા થતા જોખમોને પહોંચી વળવા માટે સીવોલ, પૂર અવરોધો અને \\nવ્યવસ્થાિપત પીછેહઠ જેવા રક્ષણાત્મક પગલાંમાં રોકાણ કરી શકે છે.\\nઆબોહવા પિરવર્તનને અસરકારક રીતે સંબોધવા માટે આંતરરાષ્ટ્રીય સહકાર મહત્વપૂર્ણ છે, \\nકારણ કે તે વૈશ્િવક મુદ્દો છે જેના માટે તમામ દેશોમાં સંકિલત પ્રયાસોની જરૂર છે. 2015 માં \\nઅપનાવવામાં આવેલ પેિરસ કરાર, વૈશ્િવક આબોહવા ક્િરયામાં એક મહત્વપૂર્ણ સીમાિચહ્નરૂપ \\nછે. આ કરાર હેઠળ, દેશોએ ગ્લોબલ વોર્િમંગને 1.5 િડગ્રી સેલ્િસયસ સુધી મર્યાિદત કરવાના \\nપ્રયાસો સાથે, પૂર્વ-ઔદ્યોિગક સ્તરથી 2 િડગ્રી સેલ્િસયસથી નીચે સુધી મર્યાિદત રાખવા \\nમાટે પ્રિતબદ્ધ છે. કરાર અનુકૂલન, િવકાસશીલ દેશો માટે નાણાકીય સહાય અને િનયિમત દેખરેખ \\nઅને પ્રગિતના અહેવાલના મહત્વ પર પણ ભાર મૂકે છે.\\nરાષ્ટ્રીય સરકારો આબોહવા નીિતઓ અને િનયમોના અમલીકરણમાં િનર્ણાયક ભૂિમકા ભજવે છે જે \\nતેમની આંતરરાષ્ટ્રીય પ્રિતબદ્ધતાઓને અનુરૂપ હોય છે. ઉદાહરણ તરીકે, યુરોિપયન યુિનયને તેના \\nયુરોિપયન ગ્રીન ડીલ દ્વારા ગ્રીનહાઉસ ગેસ ઉત્સર્જન ઘટાડવા, નવીનીકરણીય ઉર્જાનો ઉપયોગ \\nવધારવા અને ઊર્જા કાર્યક્ષમતામાં સુધારો કરવા માટે મહત્વાકાંક્ષી લક્ષ્યાંકો નક્કી કર્યા છે. \\nયુનાઇટેડ સ્ટેટ્સમાં, 2022 ના ફુગાવા ઘટાડવાના કાયદામાં ઉત્સર્જન ઘટાડવા, સ્વચ્છ ઊર્જાને \\nપ્રોત્સાહન આપવા અને આબોહવાની સ્િથિતસ્થાપકતા વધારવાના પગલાંનો સમાવેશ થાય છે. \\nગ્રીનહાઉસ વાયુઓનું િવશ્વનું સૌથી મોટું ઉત્સર્જક ચીન, 2030 સુધીમાં ઉત્સર્જનની ટોચ પર \\nપહોંચવા અને 2060 સુધીમાં કાર્બન તટસ્થતા હાંસલ કરવા માટે પ્રિતબદ્ધ છે.\\nસ્થાિનક સરકારો અને સમુદાયોની પણ આબોહવાની ક્િરયામાં આવશ્યક ભૂિમકા હોય છે. \\nિવશ્વભરના શહેરો તેમના કાર્બન ફૂટપ્િરન્ટને ઘટાડવા અને સ્િથિતસ્થાપકતા વધારવા માટે \\nનવીન અિભગમ અપનાવી રહ્યા છે. ઉદાહરણ તરીકે, કેટલાક શહેરો ટકાઉ જાહેર પિરવહન \\nપ્રણાલીમાં રોકાણ કરી રહ્યાં છે, ઇલેક્ટ્િરક વાહનોને પ્રોત્સાહન આપી રહ્યાં છે અને ઊર્જા-\\nકાર્યક્ષમ િબલ્િડંગ કોડ્સનો અમલ કરી રહ્યાં છે. સમુદાય આધાિરત પહેલો, જેમ કે શહેરી \\nબગીચાઓ, નવીનીકરણીય ઉર્જા સહકારી મંડળીઓ અને સ્થાિનક સંરક્ષણ પ્રયાસો, પણ \\nઆબોહવા શમન અને અનુકૂલનમાં યોગદાન આપી શકે છે.\\nજનજાગૃિત અને િશક્ષણ આબોહવાની ક્િરયા માટે સમર્થન બનાવવા અને ટકાઉ વર્તણૂકોને \\nપ્રોત્સાિહત કરવા માટે િનર્ણાયક છે. શાળાઓ, મીિડયા અને સમુદાય'),\n",
       " Document(metadata={'source': '/kaggle/input/fhcbahbi/Climate Change.en.gu.pdf', 'page': 4, 'page_label': '5'}, page_content='સંસ્થાઓ આબોહવા પિરવર્તનના કારણો અને અસરો િવશે જાગૃિત લાવવામાં અને વ્યક્િતઓ \\nતેમના કાર્બન ફૂટપ્િરન્ટને ઘટાડવા માટે લઈ શકે તેવા પગલાંને પ્રોત્સાહન આપવા માટે \\nમહત્વપૂર્ણ ભૂિમકા ભજવી શકે છે. આમાં ઉર્જાનો વપરાશ ઘટાડવા, સાર્વજિનક પિરવહનનો \\nઉપયોગ, િરસાયક્િલંગ અને ટકાઉ ખાદ્ય પ્રથાઓને ટેકો આપવા જેવા સરળ પગલાંનો સમાવેશ \\nથાય છે.\\nલાંબા ગાળાના આબોહવા લક્ષ્યોને પ્રાપ્ત કરવા માટે વર્તણૂક અને સાંસ્કૃિતક પિરવર્તન \\nઆવશ્યક છે. વ્યક્િતઓ ટકાઉ જીવનશૈલી પસંદગીઓ અપનાવીને નોંધપાત્ર અસર કરી શકે છે, \\nજેમ કે માંસનો વપરાશ ઘટાડવો, કચરો ઓછો કરવો અને નવીનીકરણીય ઊર્જાને ટેકો આપવો. \\nઆબોહવા પિરવર્તનને સંબોધવામાં વ્યવસાયોની પણ મહત્વપૂર્ણ ભૂિમકા છે. કોર્પોરેટ \\nસસ્ટેનેિબિલટી પહેલો, જેમ કે ગ્રીનહાઉસ ગેસના ઉત્સર્જનમાં ઘટાડો, નવીનીકરણીય ઉર્જાનો \\nસોર્િસંગ અને પિરપત્ર અર્થવ્યવસ્થાના વ્યવહારો લાગુ કરવા, વૈશ્િવક આબોહવા પ્રયાસોમાં \\nનોંધપાત્ર યોગદાન આપી શકે છે.\\nઈનોવેશન અને ટેક્નોલોજી ક્લાઈમેટ ચેન્જને સંબોધવાના કેન્દ્રમાં છે. નવીનીકરણીય ઉર્જા \\nતકનીકો, જેમ કે સૌર અને પવન ઉર્જા, વધુ કાર્યક્ષમ અને ખર્ચ-અસરકારક બની છે, જે તેમને \\nઅશ્િમભૂત ઇંધણ માટે સક્ષમ િવકલ્પો બનાવે છે. પુનઃપ્રાપ્ય ઉર્જા સ્ત્રોતોના તૂટક તૂટકનું \\nસંચાલન કરવા માટે બેટરી અને પમ્પ્ડ હાઇડ્રો સ્ટોરેજ જેવા ઊર્જા સંગ્રહમાં એડવાન્િસસ \\nમહત્વપૂર્ણ છે. સ્માર્ટ ગ્રીડ ટેક્નોલોજી, જે વીજળીની માંગનું વાસ્તિવક સમયનું િનરીક્ષણ \\nઅને સંચાલનને સક્ષમ કરે છે, તે પાવર િસસ્ટમ્સની કાર્યક્ષમતા અને િવશ્વસનીયતાને વધારી \\nશકે છે.\\nકાર્બન કેપ્ચર એન્ડ સ્ટોરેજ (CCS) ટેક્નોલોજી એ આબોહવા પિરવર્તનને ઘટાડવા માટેનું \\nબીજું મહત્વનું સાધન છે. પાવર પ્લાન્ટ્સ અને ઔદ્યોિગક પ્રક્િરયાઓમાંથી CO2 \\nઉત્સર્જનને કબજે કરીને અને તેને ભૂગર્ભમાં સંગ્રિહત કરીને, CCS વાતાવરણમાં છોડવામાં \\nઆવતા CO2ની માત્રાને નોંધપાત્ર રીતે ઘટાડી શકે છે. વધુમાં, ઉભરતી તકનીકો, જેમ કે \\nડાયરેક્ટ એર કેપ્ચર, જે સીધો હવામાંથી CO2 દૂર કરે છે, તે નેટ-શૂન્ય ઉત્સર્જન હાંસલ \\nકરવામાં નોંધપાત્ર ભૂિમકા ભજવવાની ક્ષમતા ધરાવે છે.\\nનવીનતા માત્ર ટેકનોલોજી સુધી મર્યાિદત નથી; તેમાં નીિત, નાણા અને શાસન માટેના નવા \\nઅિભગમોનો પણ સમાવેશ થાય છે. ઉદાહરણ તરીકે, ગ્રીન ફાઇનાન્સ પહેલ, જેમ કે ગ્રીન \\nબોન્ડ અને ક્લાઇમેટ ઇન્વેસ્ટમેન્ટ ફંડ, માટે ખાનગી મૂડી એકત્ર કરી શકે છે'),\n",
       " Document(metadata={'source': '/kaggle/input/fhcbahbi/Climate Change.en.gu.pdf', 'page': 5, 'page_label': '6'}, page_content='આબોહવા-મૈત્રીપૂર્ણ પ્રોજેક્ટ. સહયોગી ગવર્નન્સ મોડલ કે જેમાં સરકારો, વ્યવસાયો અને \\nનાગિરક સમાજ સિહત બહુિવધ િહસ્સેદારોનો સમાવેશ થાય છે, તે સુિનશ્િચત કરી શકે છે કે \\nઆબોહવા નીિતઓ સમાિવષ્ટ અને અસરકારક છે.\\nટકાઉ ભિવષ્ય તરફની સફર જિટલ અને પડકારજનક છે, પરંતુ તે એક છે જે આપણે આપણા \\nગ્રહ અને ભાિવ પેઢીઓની સુખાકારી માટે હાથ ધરવી જોઈએ. આબોહવા પિરવર્તન \\nનોંધપાત્ર જોખમો ધરાવે છે, પરંતુ તે નવીનતા, આર્િથક વૃદ્િધ અને સામાિજક પ્રગિત માટેની \\nતકો પણ રજૂ કરે છે. નવીનીકરણીય ઉર્જાને અપનાવીને, ઊર્જા કાર્યક્ષમતા વધારીને, \\nકુદરતી ઇકોિસસ્ટમનું રક્ષણ કરીને અને ટકાઉ પ્રણાલીઓને પ્રોત્સાહન આપીને, આપણે \\nએક સ્િથિતસ્થાપક અને ટકાઉ િવશ્વ બનાવી શકીએ છીએ.\\nિનષ્કર્ષમાં, આબોહવા પિરવર્તન એ એક તાકીદનો અને બહુપક્ષીય મુદ્દો છે જેને સંકિલત \\nવૈશ્િવક પ્રિતસાદની જરૂર છે. િવજ્ઞાન સ્પષ્ટ છે: પર્યાવરણ, અર્થતંત્ર, આરોગ્ય અને \\nસુરક્ષા પર દૂરગામી અસરો સાથે, માનવ પ્રવૃત્િતઓ પૃથ્વીની આબોહવામાં ઝડપી પિરવર્તન \\nલાવી રહી છે. ગ્રીનહાઉસ ગેસના ઉત્સર્જનમાં ઘટાડો કરીને અને સ્િથિતસ્થાપકતા-િનર્માણના \\nપગલાં દ્વારા તેની અસરોને અનુકૂિલત કરીને આબોહવા પિરવર્તનને ઓછું કરવું એ આપણા \\nભિવષ્યની સુરક્ષા માટે જરૂરી છે. આંતરરાષ્ટ્રીય સહકાર, રાષ્ટ્રીય પ્રિતબદ્ધતા, સ્થાિનક \\nકાર્યવાહી અને વ્યક્િતગત જવાબદારી દ્વારા, અમે આબોહવા પિરવર્તનના પડકારોનો સામનો \\nકરી શકીએ છીએ અને બધા માટે ટકાઉ ભિવષ્ય બનાવી શકીએ છીએ.')]"
      ]
     },
     "execution_count": 8,
     "metadata": {},
     "output_type": "execute_result"
    }
   ],
   "source": [
    "pages"
   ]
  },
  {
   "cell_type": "code",
   "execution_count": 10,
   "metadata": {
    "execution": {
     "iopub.execute_input": "2025-02-03T15:25:21.500271Z",
     "iopub.status.busy": "2025-02-03T15:25:21.499984Z",
     "iopub.status.idle": "2025-02-03T15:25:21.504865Z",
     "shell.execute_reply": "2025-02-03T15:25:21.503835Z",
     "shell.execute_reply.started": "2025-02-03T15:25:21.500249Z"
    },
    "trusted": true
   },
   "outputs": [],
   "source": [
    "text_splitter = RecursiveCharacterTextSplitter(chunk_size=1000, chunk_overlap=200)\n",
    "docs = text_splitter.split_documents(pages)"
   ]
  },
  {
   "cell_type": "code",
   "execution_count": 11,
   "metadata": {
    "execution": {
     "iopub.execute_input": "2025-02-03T15:25:24.369845Z",
     "iopub.status.busy": "2025-02-03T15:25:24.369504Z",
     "iopub.status.idle": "2025-02-03T15:25:24.375899Z",
     "shell.execute_reply": "2025-02-03T15:25:24.374944Z",
     "shell.execute_reply.started": "2025-02-03T15:25:24.369814Z"
    },
    "trusted": true
   },
   "outputs": [
    {
     "data": {
      "text/plain": [
       "[Document(metadata={'source': '/kaggle/input/fhcbahbi/Climate Change.en.gu.pdf', 'page': 0, 'page_label': '1'}, page_content='ક્લાઈમેટ ચેન્જ\\nઆબોહવા પિરવર્તન એ આપણા સમયના સૌથી મહત્વપૂર્ણ અને દબાણયુક્ત મુદ્દાઓ પૈકી \\nએક છે, જે આપણા જીવનના દરેક પાસાઓને અસર કરે છે, પર્યાવરણથી લઈને અર્થતંત્ર, \\nઆરોગ્ય અને સુરક્ષા સુધી. તે તાપમાનના લાંબા ગાળાના ફેરફાર અને સ્થાનના લાક્ષિણક \\nહવામાન પેટર્નનો સંદર્ભ આપે છે. જ્યારે આબોહવા પિરવર્તન એ કુદરતી ઘટના છે, ત્યારે \\nમાનવીય પ્રવૃત્િતઓ, ખાસ કરીને ઔદ્યોિગક ક્રાંિત પછીથી, તેની ગિતમાં નોંધપાત્ર વધારો \\nથયો છે, જે પૃથ્વીની આબોહવા પ્રણાલીમાં અભૂતપૂર્વ અને સંભિવત િવનાશક ફેરફારો તરફ \\nદોરી જાય છે.\\nઆબોહવા પિરવર્તન પર વૈજ્ઞાિનક સર્વસંમિત સ્પષ્ટ છે: પૃથ્વીની આબોહવા ગરમ થઈ રહી \\nછે, અને માનવ પ્રવૃત્િતઓ પ્રાથિમક ડ્રાઈવર છે. આબોહવા િવજ્ઞાન પર અગ્રણી ઓથોિરટી \\nઓન ક્લાઈમેટ ચેન્જ (IPCC) પરની આંતર સરકારી પેનલે અહેવાલ આપ્યો છે કે 19મી સદીના \\nઅંતથી વૈશ્િવક તાપમાનમાં આશરે 1.2 િડગ્રી સેલ્િસયસ (2.2 િડગ્રી ફેરનહીટ) વધારો થયો છે. \\nઆ વોર્િમંગ વલણ મોટે ભાગે વાતાવરણમાં ગ્રીનહાઉસ વાયુઓની વધેલી સાંદ્રતાને કારણે છે, \\nમુખ્યત્વે કાર્બન ડાયોક્સાઈડ (CO2), િમથેન (CH4), અને નાઈટ્રસ ઓક્સાઈડ (N2O), જે'),\n",
       " Document(metadata={'source': '/kaggle/input/fhcbahbi/Climate Change.en.gu.pdf', 'page': 0, 'page_label': '1'}, page_content='આ વોર્િમંગ વલણ મોટે ભાગે વાતાવરણમાં ગ્રીનહાઉસ વાયુઓની વધેલી સાંદ્રતાને કારણે છે, \\nમુખ્યત્વે કાર્બન ડાયોક્સાઈડ (CO2), િમથેન (CH4), અને નાઈટ્રસ ઓક્સાઈડ (N2O), જે \\nસૂર્યમાંથી ગરમીને ફસાવે છે અને તેને અવકાશમાં પાછા ફરતા અટકાવે છે. .\\nઊર્જા અને પિરવહન માટે કોલસો, તેલ અને કુદરતી ગેસ જેવા અશ્િમભૂત ઇંધણને બાળવું એ \\nગ્રીનહાઉસ ગેસ ઉત્સર્જનનો સૌથી મોટો સ્ત્રોત છે. વનનાબૂદી, કૃિષ અને ઔદ્યોિગક \\nપ્રક્િરયાઓ પણ આ ઉત્સર્જનમાં નોંધપાત્ર ફાળો આપે છે. ગ્રીનહાઉસ વાયુઓમાં વધારો \\nકુદરતી ગ્રીનહાઉસ અસરને વધારે છે, જે પૃથ્વીની સપાટી અને વાતાવરણને ગરમ કરવા તરફ \\nદોરી જાય છે. આ વોર્િમંગની પૃથ્વીની આબોહવા અને ઇકોિસસ્ટમ પર દૂરગામી અસરો છે.\\nઆબોહવા પિરવર્તનની સૌથી વધુ દૃશ્યમાન અને તાત્કાિલક અસરોમાંની એક અત્યંત \\nહવામાનની ઘટનાઓમાં વધારો છે. હીટવેવ્સ વધુ વારંવાર અને ગંભીર બની રહ્યા છે, જેના કારણે \\nવ્યાપક સ્વાસ્થ્ય સમસ્યાઓ થઈ રહી છે અને જંગલમાં આગ લાગવાનું જોખમ વધી રહ્યું છે. \\nભારે વરસાદ અને પૂરની ઘટનાઓ પણ વધી રહી છે, જેના કારણે ઈન્ફ્રાસ્ટ્રક્ચર, ઘરો અને'),\n",
       " Document(metadata={'source': '/kaggle/input/fhcbahbi/Climate Change.en.gu.pdf', 'page': 0, 'page_label': '1'}, page_content='વ્યાપક સ્વાસ્થ્ય સમસ્યાઓ થઈ રહી છે અને જંગલમાં આગ લાગવાનું જોખમ વધી રહ્યું છે. \\nભારે વરસાદ અને પૂરની ઘટનાઓ પણ વધી રહી છે, જેના કારણે ઈન્ફ્રાસ્ટ્રક્ચર, ઘરો અને \\nપાકને નોંધપાત્ર નુકસાન થઈ રહ્યું છે. તેનાથી િવપરીત, કેટલાક પ્રદેશો વધુ લાંબા સમય સુધી \\nદુષ્કાળનો અનુભવ કરી રહ્યા છે, જે પાણી પુરવઠા અને કૃિષ ઉત્પાદકતાને જોખમમાં મૂકે છે.\\nTranslated from English to Gujarati - www.onlinedoctranslator.com'),\n",
       " Document(metadata={'source': '/kaggle/input/fhcbahbi/Climate Change.en.gu.pdf', 'page': 1, 'page_label': '2'}, page_content='આબોહવા પિરવર્તન પણ હવામાનની પેટર્નમાં લાંબા ગાળાના ફેરફારોનું કારણ બની રહ્યું છે. \\nઉદાહરણ તરીકે, ઘણા પ્રદેશો તેમના ઋતુચક્રમાં પિરવર્તન અનુભવી રહ્યા છે, જેમાં વસંત \\nવહેલું આવે છે અને િશયાળો હળવો બને છે. આ ફેરફારો ઇકોિસસ્ટમ અને કૃિષને િવક્ષેિપત કરી \\nશકે છે, કારણ કે છોડ અને પ્રાણીઓ નવી પિરસ્િથિતઓમાં ઝડપથી અનુકૂલન કરી શકતા નથી.\\nઆબોહવા પિરવર્તનની સૌથી વધુ િચંતાજનક અસરોમાંની એક દિરયાની સપાટીમાં વધારો છે, જે \\nધ્રુવીય બરફના ઢગલા અને િહમનદીઓના પીગળવાથી તેમજ દિરયાઈ પાણીના થર્મલ \\nિવસ્તરણને કારણે તે ગરમ થાય છે. 19મી સદીના અંતથી સમુદ્રના સ્તરમાં લગભગ 20 \\nસેન્િટમીટર (8 ઇંચ)નો વધારો થયો છે, અને વૃદ્િધનો દર ઝડપી બની રહ્યો છે. આ દિરયાકાંઠાના \\nસમુદાયો માટે નોંધપાત્ર જોખમ ઊભું કરે છે, કારણ કે વધતા સમુદ્રો વધુ વારંવાર અને ગંભીર \\nદિરયાકાંઠાના પૂર, ધોવાણ અને મીઠા પાણીના સંસાધનોમાં ખારા પાણીની ઘૂસણખોરી તરફ દોરી \\nશકે છે.\\nપૃથ્વીના ઉષ્ણતામાનની કુદરતી દુિનયા પર પણ ઊંડી અસર પડે છે. ઘણી પ્રજાિતઓને યોગ્ય \\nરહેઠાણોની શોધમાં વધુ ઊંચાઈઓ અથવા અક્ષાંશો તરફ સ્થળાંતર કરવાની ફરજ પડી રહી છે,'),\n",
       " Document(metadata={'source': '/kaggle/input/fhcbahbi/Climate Change.en.gu.pdf', 'page': 1, 'page_label': '2'}, page_content='શકે છે.\\nપૃથ્વીના ઉષ્ણતામાનની કુદરતી દુિનયા પર પણ ઊંડી અસર પડે છે. ઘણી પ્રજાિતઓને યોગ્ય \\nરહેઠાણોની શોધમાં વધુ ઊંચાઈઓ અથવા અક્ષાંશો તરફ સ્થળાંતર કરવાની ફરજ પડી રહી છે, \\nઅને કેટલીક પ્રજાિતઓ પિરવર્તનની ઝડપી ગિતને કારણે લુપ્ત થવાનો સામનો કરી રહી છે. \\nપરવાળાના ખડકો, જે ખાસ કરીને તાપમાનના ફેરફારો પ્રત્યે સંવેદનશીલ હોય છે, તે વ્યાપક \\nિવરંજન અને મૃત્યુનો અનુભવ કરી રહ્યાં છે, જે તેમના પર િનર્ભર િવિવધ દિરયાઈ જીવનને \\nજોખમમાં મૂકે છે. દિરયાઈ પાણી દ્વારા અિધક CO2 ના શોષણને કારણે સમુદ્રનું એિસિડિફકેશન, \\nદિરયાઈ જીવસૃષ્િટ, ખાસ કરીને શેલિફશ અને અન્ય સજીવો કે જેઓ તેમના શેલ અને હાડિપંજર \\nમાટે કેલ્િશયમ કાર્બોનેટ પર આધાર રાખે છે તેના પરના તાણને વધારે છે.\\nજળવાયુ પિરવર્તનના કારણે માનવ સ્વાસ્થ્ય પણ જોખમમાં છે. વધતું તાપમાન શ્વસન અને \\nરક્તવાિહની રોગોમાં વધારો કરી શકે છે, ગરમી-સંબંિધત િબમારીઓનો વ્યાપ વધારી શકે છે અને \\nમચ્છર જેવા રોગ વહન કરતા જંતુઓની શ્રેણીને િવસ્તારી શકે છે, જે મેલેિરયા અને ડેન્ગ્યુ તાવ \\nજેવા રોગોના ફેલાવા તરફ દોરી જાય છે. વધુમાં, ભારે હવામાનની ઘટનાઓ ઈજા, િવસ્થાપન અને'),\n",
       " Document(metadata={'source': '/kaggle/input/fhcbahbi/Climate Change.en.gu.pdf', 'page': 1, 'page_label': '2'}, page_content='મચ્છર જેવા રોગ વહન કરતા જંતુઓની શ્રેણીને િવસ્તારી શકે છે, જે મેલેિરયા અને ડેન્ગ્યુ તાવ \\nજેવા રોગોના ફેલાવા તરફ દોરી જાય છે. વધુમાં, ભારે હવામાનની ઘટનાઓ ઈજા, િવસ્થાપન અને \\nમાનિસક સ્વાસ્થ્ય સમસ્યાઓનું કારણ બની શકે છે.\\nઆબોહવા પિરવર્તનની આર્િથક અસરો નોંધપાત્ર અને વ્યાપક છે. કૃિષ, જે આબોહવાની \\nપિરસ્િથિતઓ પર ખૂબ િનર્ભર છે, ખાસ કરીને'),\n",
       " Document(metadata={'source': '/kaggle/input/fhcbahbi/Climate Change.en.gu.pdf', 'page': 2, 'page_label': '3'}, page_content='સંવેદનશીલ તાપમાન અને વરસાદની પેટર્નમાં ફેરફાર પાકની ઉપજ ઘટાડી શકે છે, ખાદ્ય \\nપુરવઠાની સાંકળો િવક્ષેિપત કરી શકે છે અને ખાદ્ય અસુરક્ષાનું જોખમ વધારી શકે છે. \\nમાછીમારી ઉદ્યોગને પણ અસર થાય છે, કારણ કે બદલાતા સમુદ્રી તાપમાન અને એિસડીકરણ \\nમાછલીની વસ્તી અને દિરયાઈ જીવસૃષ્િટને અસર કરે છે. તદુપરાંત, આત્યંિતક હવામાન \\nઘટનાઓની વધેલી આવર્તન અને તીવ્રતા ઇન્ફ્રાસ્ટ્રક્ચર, ઘરો અને વ્યવસાયોને વ્યાપક \\nનુકસાન પહોંચાડી શકે છે, જે નોંધપાત્ર આર્િથક નુકસાન તરફ દોરી જાય છે.\\nઆબોહવા પિરવર્તનને સંબોધવા માટે વ્યાપક અને બહુપક્ષીય અિભગમની જરૂર છે જેમાં \\nશમન અને અનુકૂલન વ્યૂહરચના બંનેનો સમાવેશ થાય છે. શમનમાં ભાિવ આબોહવા \\nપિરવર્તનની મર્યાદાને મર્યાિદત કરવા માટે ગ્રીનહાઉસ ગેસના ઉત્સર્જનને ઘટાડવાનો \\nસમાવેશ થાય છે. આ િવિવધ માધ્યમો દ્વારા પ્રાપ્ત કરી શકાય છે, જેમ કે સૌર, પવન અને \\nહાઇડ્રોપાવર જેવા નવીનીકરણીય ઉર્જા સ્ત્રોતોમાં સંક્રમણ, ઇમારતો, પિરવહન અને \\nઉદ્યોગમાં ઊર્જા કાર્યક્ષમતામાં સુધારો, અને જંગલો અને અન્ય કુદરતી કાર્બન િસંકનું \\nરક્ષણ અને પુનઃસ્થાપન.'),\n",
       " Document(metadata={'source': '/kaggle/input/fhcbahbi/Climate Change.en.gu.pdf', 'page': 2, 'page_label': '3'}, page_content='હાઇડ્રોપાવર જેવા નવીનીકરણીય ઉર્જા સ્ત્રોતોમાં સંક્રમણ, ઇમારતો, પિરવહન અને \\nઉદ્યોગમાં ઊર્જા કાર્યક્ષમતામાં સુધારો, અને જંગલો અને અન્ય કુદરતી કાર્બન િસંકનું \\nરક્ષણ અને પુનઃસ્થાપન.\\nકાર્બન પ્રાઇસીંગ િમકેિનઝમ્સ, જેમ કે કાર્બન ટેક્સ અને કેપ-એન્ડ-ટ્રેડ િસસ્ટમ્સ પણ \\nઉત્સર્જન ઘટાડવા માટે જરૂરી સાધનો છે. કાર્બન પર િકંમત મૂકીને, આ િમકેિનઝમ્સ વ્યવસાયો \\nઅને વ્યક્િતઓ માટે તેમના કાર્બન ફૂટપ્િરન્ટને ઘટાડવા માટે નાણાકીય પ્રોત્સાહનો બનાવે છે. \\nવધુમાં, કાર્બન કેપ્ચર એન્ડ સ્ટોરેજ (CCS) જેવી તકનીકી નવીનતાઓ, જેમાં પાવર પ્લાન્ટ્સ \\nઅને ઔદ્યોિગક પ્રક્િરયાઓમાંથી CO2 ઉત્સર્જન મેળવવા અને તેને ભૂગર્ભમાં સંગ્રિહત \\nકરવાનો સમાવેશ થાય છે, તે આબોહવા પિરવર્તનને ઘટાડવામાં મહત્વપૂર્ણ ભૂિમકા ભજવી શકે \\nછે.\\nબીજી બાજુ, અનુકૂલન, આબોહવા પિરવર્તનને કારણે થતા નુકસાનને ઘટાડવા અને કોઈપણ \\nસંભિવત લાભોનો લાભ લેવા માટે સામાિજક, આર્િથક અને પર્યાવરણીય પ્રથાઓમાં \\nગોઠવણોનો સમાવેશ કરે છે. આમાં સ્િથિતસ્થાપક ઈન્ફ્રાસ્ટ્રક્ચર બનાવવાનો સમાવેશ \\nથાય છે જે આત્યંિતક હવામાનની ઘટનાઓનો સામનો કરી શકે, દુષ્કાળ-પ્રિતરોધક પાકોનો'),\n",
       " Document(metadata={'source': '/kaggle/input/fhcbahbi/Climate Change.en.gu.pdf', 'page': 2, 'page_label': '3'}, page_content='ગોઠવણોનો સમાવેશ કરે છે. આમાં સ્િથિતસ્થાપક ઈન્ફ્રાસ્ટ્રક્ચર બનાવવાનો સમાવેશ \\nથાય છે જે આત્યંિતક હવામાનની ઘટનાઓનો સામનો કરી શકે, દુષ્કાળ-પ્રિતરોધક પાકોનો \\nિવકાસ કરી શકે અને પાણી વ્યવસ્થાપન પદ્ધિતઓનો અમલ કરે જે બદલાતી વરસાદની \\nપેટર્નના ચહેરા પર િવશ્વસનીય પાણી પુરવઠો સુિનશ્િચત કરે.\\nઅનુકૂલન માટે શહેરી આયોજન પણ િનર્ણાયક છે. ગ્રીન ઈન્ફ્રાસ્ટ્રક્ચરને એકીકૃત કરીને \\nશહેરો આબોહવા પિરવર્તન પ્રત્યેની તેમની નબળાઈ ઘટાડી શકે છે, જેમ કે'),\n",
       " Document(metadata={'source': '/kaggle/input/fhcbahbi/Climate Change.en.gu.pdf', 'page': 3, 'page_label': '4'}, page_content='ઉદ્યાનો, લીલી છત અને પારગમ્ય પેવમેન્ટ્સ, જે વરસાદી પાણીનું સંચાલન કરવામાં, શહેરી ગરમીના \\nટાપુઓને ઘટાડવામાં અને હવાની ગુણવત્તા સુધારવામાં મદદ કરી શકે છે. દિરયાકાંઠાના સમુદાયો \\nદિરયાઈ સ્તરના વધારાને કારણે ઉભા થતા જોખમોને પહોંચી વળવા માટે સીવોલ, પૂર અવરોધો અને \\nવ્યવસ્થાિપત પીછેહઠ જેવા રક્ષણાત્મક પગલાંમાં રોકાણ કરી શકે છે.\\nઆબોહવા પિરવર્તનને અસરકારક રીતે સંબોધવા માટે આંતરરાષ્ટ્રીય સહકાર મહત્વપૂર્ણ છે, \\nકારણ કે તે વૈશ્િવક મુદ્દો છે જેના માટે તમામ દેશોમાં સંકિલત પ્રયાસોની જરૂર છે. 2015 માં \\nઅપનાવવામાં આવેલ પેિરસ કરાર, વૈશ્િવક આબોહવા ક્િરયામાં એક મહત્વપૂર્ણ સીમાિચહ્નરૂપ \\nછે. આ કરાર હેઠળ, દેશોએ ગ્લોબલ વોર્િમંગને 1.5 િડગ્રી સેલ્િસયસ સુધી મર્યાિદત કરવાના \\nપ્રયાસો સાથે, પૂર્વ-ઔદ્યોિગક સ્તરથી 2 િડગ્રી સેલ્િસયસથી નીચે સુધી મર્યાિદત રાખવા \\nમાટે પ્રિતબદ્ધ છે. કરાર અનુકૂલન, િવકાસશીલ દેશો માટે નાણાકીય સહાય અને િનયિમત દેખરેખ \\nઅને પ્રગિતના અહેવાલના મહત્વ પર પણ ભાર મૂકે છે.\\nરાષ્ટ્રીય સરકારો આબોહવા નીિતઓ અને િનયમોના અમલીકરણમાં િનર્ણાયક ભૂિમકા ભજવે છે જે'),\n",
       " Document(metadata={'source': '/kaggle/input/fhcbahbi/Climate Change.en.gu.pdf', 'page': 3, 'page_label': '4'}, page_content='અને પ્રગિતના અહેવાલના મહત્વ પર પણ ભાર મૂકે છે.\\nરાષ્ટ્રીય સરકારો આબોહવા નીિતઓ અને િનયમોના અમલીકરણમાં િનર્ણાયક ભૂિમકા ભજવે છે જે \\nતેમની આંતરરાષ્ટ્રીય પ્રિતબદ્ધતાઓને અનુરૂપ હોય છે. ઉદાહરણ તરીકે, યુરોિપયન યુિનયને તેના \\nયુરોિપયન ગ્રીન ડીલ દ્વારા ગ્રીનહાઉસ ગેસ ઉત્સર્જન ઘટાડવા, નવીનીકરણીય ઉર્જાનો ઉપયોગ \\nવધારવા અને ઊર્જા કાર્યક્ષમતામાં સુધારો કરવા માટે મહત્વાકાંક્ષી લક્ષ્યાંકો નક્કી કર્યા છે. \\nયુનાઇટેડ સ્ટેટ્સમાં, 2022 ના ફુગાવા ઘટાડવાના કાયદામાં ઉત્સર્જન ઘટાડવા, સ્વચ્છ ઊર્જાને \\nપ્રોત્સાહન આપવા અને આબોહવાની સ્િથિતસ્થાપકતા વધારવાના પગલાંનો સમાવેશ થાય છે. \\nગ્રીનહાઉસ વાયુઓનું િવશ્વનું સૌથી મોટું ઉત્સર્જક ચીન, 2030 સુધીમાં ઉત્સર્જનની ટોચ પર \\nપહોંચવા અને 2060 સુધીમાં કાર્બન તટસ્થતા હાંસલ કરવા માટે પ્રિતબદ્ધ છે.\\nસ્થાિનક સરકારો અને સમુદાયોની પણ આબોહવાની ક્િરયામાં આવશ્યક ભૂિમકા હોય છે. \\nિવશ્વભરના શહેરો તેમના કાર્બન ફૂટપ્િરન્ટને ઘટાડવા અને સ્િથિતસ્થાપકતા વધારવા માટે \\nનવીન અિભગમ અપનાવી રહ્યા છે. ઉદાહરણ તરીકે, કેટલાક શહેરો ટકાઉ જાહેર પિરવહન'),\n",
       " Document(metadata={'source': '/kaggle/input/fhcbahbi/Climate Change.en.gu.pdf', 'page': 3, 'page_label': '4'}, page_content='િવશ્વભરના શહેરો તેમના કાર્બન ફૂટપ્િરન્ટને ઘટાડવા અને સ્િથિતસ્થાપકતા વધારવા માટે \\nનવીન અિભગમ અપનાવી રહ્યા છે. ઉદાહરણ તરીકે, કેટલાક શહેરો ટકાઉ જાહેર પિરવહન \\nપ્રણાલીમાં રોકાણ કરી રહ્યાં છે, ઇલેક્ટ્િરક વાહનોને પ્રોત્સાહન આપી રહ્યાં છે અને ઊર્જા-\\nકાર્યક્ષમ િબલ્િડંગ કોડ્સનો અમલ કરી રહ્યાં છે. સમુદાય આધાિરત પહેલો, જેમ કે શહેરી \\nબગીચાઓ, નવીનીકરણીય ઉર્જા સહકારી મંડળીઓ અને સ્થાિનક સંરક્ષણ પ્રયાસો, પણ \\nઆબોહવા શમન અને અનુકૂલનમાં યોગદાન આપી શકે છે.\\nજનજાગૃિત અને િશક્ષણ આબોહવાની ક્િરયા માટે સમર્થન બનાવવા અને ટકાઉ વર્તણૂકોને \\nપ્રોત્સાિહત કરવા માટે િનર્ણાયક છે. શાળાઓ, મીિડયા અને સમુદાય'),\n",
       " Document(metadata={'source': '/kaggle/input/fhcbahbi/Climate Change.en.gu.pdf', 'page': 4, 'page_label': '5'}, page_content='સંસ્થાઓ આબોહવા પિરવર્તનના કારણો અને અસરો િવશે જાગૃિત લાવવામાં અને વ્યક્િતઓ \\nતેમના કાર્બન ફૂટપ્િરન્ટને ઘટાડવા માટે લઈ શકે તેવા પગલાંને પ્રોત્સાહન આપવા માટે \\nમહત્વપૂર્ણ ભૂિમકા ભજવી શકે છે. આમાં ઉર્જાનો વપરાશ ઘટાડવા, સાર્વજિનક પિરવહનનો \\nઉપયોગ, િરસાયક્િલંગ અને ટકાઉ ખાદ્ય પ્રથાઓને ટેકો આપવા જેવા સરળ પગલાંનો સમાવેશ \\nથાય છે.\\nલાંબા ગાળાના આબોહવા લક્ષ્યોને પ્રાપ્ત કરવા માટે વર્તણૂક અને સાંસ્કૃિતક પિરવર્તન \\nઆવશ્યક છે. વ્યક્િતઓ ટકાઉ જીવનશૈલી પસંદગીઓ અપનાવીને નોંધપાત્ર અસર કરી શકે છે, \\nજેમ કે માંસનો વપરાશ ઘટાડવો, કચરો ઓછો કરવો અને નવીનીકરણીય ઊર્જાને ટેકો આપવો. \\nઆબોહવા પિરવર્તનને સંબોધવામાં વ્યવસાયોની પણ મહત્વપૂર્ણ ભૂિમકા છે. કોર્પોરેટ \\nસસ્ટેનેિબિલટી પહેલો, જેમ કે ગ્રીનહાઉસ ગેસના ઉત્સર્જનમાં ઘટાડો, નવીનીકરણીય ઉર્જાનો \\nસોર્િસંગ અને પિરપત્ર અર્થવ્યવસ્થાના વ્યવહારો લાગુ કરવા, વૈશ્િવક આબોહવા પ્રયાસોમાં \\nનોંધપાત્ર યોગદાન આપી શકે છે.\\nઈનોવેશન અને ટેક્નોલોજી ક્લાઈમેટ ચેન્જને સંબોધવાના કેન્દ્રમાં છે. નવીનીકરણીય ઉર્જા \\nતકનીકો, જેમ કે સૌર અને પવન ઉર્જા, વધુ કાર્યક્ષમ અને ખર્ચ-અસરકારક બની છે, જે તેમને'),\n",
       " Document(metadata={'source': '/kaggle/input/fhcbahbi/Climate Change.en.gu.pdf', 'page': 4, 'page_label': '5'}, page_content='નોંધપાત્ર યોગદાન આપી શકે છે.\\nઈનોવેશન અને ટેક્નોલોજી ક્લાઈમેટ ચેન્જને સંબોધવાના કેન્દ્રમાં છે. નવીનીકરણીય ઉર્જા \\nતકનીકો, જેમ કે સૌર અને પવન ઉર્જા, વધુ કાર્યક્ષમ અને ખર્ચ-અસરકારક બની છે, જે તેમને \\nઅશ્િમભૂત ઇંધણ માટે સક્ષમ િવકલ્પો બનાવે છે. પુનઃપ્રાપ્ય ઉર્જા સ્ત્રોતોના તૂટક તૂટકનું \\nસંચાલન કરવા માટે બેટરી અને પમ્પ્ડ હાઇડ્રો સ્ટોરેજ જેવા ઊર્જા સંગ્રહમાં એડવાન્િસસ \\nમહત્વપૂર્ણ છે. સ્માર્ટ ગ્રીડ ટેક્નોલોજી, જે વીજળીની માંગનું વાસ્તિવક સમયનું િનરીક્ષણ \\nઅને સંચાલનને સક્ષમ કરે છે, તે પાવર િસસ્ટમ્સની કાર્યક્ષમતા અને િવશ્વસનીયતાને વધારી \\nશકે છે.\\nકાર્બન કેપ્ચર એન્ડ સ્ટોરેજ (CCS) ટેક્નોલોજી એ આબોહવા પિરવર્તનને ઘટાડવા માટેનું \\nબીજું મહત્વનું સાધન છે. પાવર પ્લાન્ટ્સ અને ઔદ્યોિગક પ્રક્િરયાઓમાંથી CO2 \\nઉત્સર્જનને કબજે કરીને અને તેને ભૂગર્ભમાં સંગ્રિહત કરીને, CCS વાતાવરણમાં છોડવામાં \\nઆવતા CO2ની માત્રાને નોંધપાત્ર રીતે ઘટાડી શકે છે. વધુમાં, ઉભરતી તકનીકો, જેમ કે \\nડાયરેક્ટ એર કેપ્ચર, જે સીધો હવામાંથી CO2 દૂર કરે છે, તે નેટ-શૂન્ય ઉત્સર્જન હાંસલ \\nકરવામાં નોંધપાત્ર ભૂિમકા ભજવવાની ક્ષમતા ધરાવે છે.'),\n",
       " Document(metadata={'source': '/kaggle/input/fhcbahbi/Climate Change.en.gu.pdf', 'page': 4, 'page_label': '5'}, page_content='ડાયરેક્ટ એર કેપ્ચર, જે સીધો હવામાંથી CO2 દૂર કરે છે, તે નેટ-શૂન્ય ઉત્સર્જન હાંસલ \\nકરવામાં નોંધપાત્ર ભૂિમકા ભજવવાની ક્ષમતા ધરાવે છે.\\nનવીનતા માત્ર ટેકનોલોજી સુધી મર્યાિદત નથી; તેમાં નીિત, નાણા અને શાસન માટેના નવા \\nઅિભગમોનો પણ સમાવેશ થાય છે. ઉદાહરણ તરીકે, ગ્રીન ફાઇનાન્સ પહેલ, જેમ કે ગ્રીન \\nબોન્ડ અને ક્લાઇમેટ ઇન્વેસ્ટમેન્ટ ફંડ, માટે ખાનગી મૂડી એકત્ર કરી શકે છે'),\n",
       " Document(metadata={'source': '/kaggle/input/fhcbahbi/Climate Change.en.gu.pdf', 'page': 5, 'page_label': '6'}, page_content='આબોહવા-મૈત્રીપૂર્ણ પ્રોજેક્ટ. સહયોગી ગવર્નન્સ મોડલ કે જેમાં સરકારો, વ્યવસાયો અને \\nનાગિરક સમાજ સિહત બહુિવધ િહસ્સેદારોનો સમાવેશ થાય છે, તે સુિનશ્િચત કરી શકે છે કે \\nઆબોહવા નીિતઓ સમાિવષ્ટ અને અસરકારક છે.\\nટકાઉ ભિવષ્ય તરફની સફર જિટલ અને પડકારજનક છે, પરંતુ તે એક છે જે આપણે આપણા \\nગ્રહ અને ભાિવ પેઢીઓની સુખાકારી માટે હાથ ધરવી જોઈએ. આબોહવા પિરવર્તન \\nનોંધપાત્ર જોખમો ધરાવે છે, પરંતુ તે નવીનતા, આર્િથક વૃદ્િધ અને સામાિજક પ્રગિત માટેની \\nતકો પણ રજૂ કરે છે. નવીનીકરણીય ઉર્જાને અપનાવીને, ઊર્જા કાર્યક્ષમતા વધારીને, \\nકુદરતી ઇકોિસસ્ટમનું રક્ષણ કરીને અને ટકાઉ પ્રણાલીઓને પ્રોત્સાહન આપીને, આપણે \\nએક સ્િથિતસ્થાપક અને ટકાઉ િવશ્વ બનાવી શકીએ છીએ.\\nિનષ્કર્ષમાં, આબોહવા પિરવર્તન એ એક તાકીદનો અને બહુપક્ષીય મુદ્દો છે જેને સંકિલત \\nવૈશ્િવક પ્રિતસાદની જરૂર છે. િવજ્ઞાન સ્પષ્ટ છે: પર્યાવરણ, અર્થતંત્ર, આરોગ્ય અને \\nસુરક્ષા પર દૂરગામી અસરો સાથે, માનવ પ્રવૃત્િતઓ પૃથ્વીની આબોહવામાં ઝડપી પિરવર્તન \\nલાવી રહી છે. ગ્રીનહાઉસ ગેસના ઉત્સર્જનમાં ઘટાડો કરીને અને સ્િથિતસ્થાપકતા-િનર્માણના'),\n",
       " Document(metadata={'source': '/kaggle/input/fhcbahbi/Climate Change.en.gu.pdf', 'page': 5, 'page_label': '6'}, page_content='સુરક્ષા પર દૂરગામી અસરો સાથે, માનવ પ્રવૃત્િતઓ પૃથ્વીની આબોહવામાં ઝડપી પિરવર્તન \\nલાવી રહી છે. ગ્રીનહાઉસ ગેસના ઉત્સર્જનમાં ઘટાડો કરીને અને સ્િથિતસ્થાપકતા-િનર્માણના \\nપગલાં દ્વારા તેની અસરોને અનુકૂિલત કરીને આબોહવા પિરવર્તનને ઓછું કરવું એ આપણા \\nભિવષ્યની સુરક્ષા માટે જરૂરી છે. આંતરરાષ્ટ્રીય સહકાર, રાષ્ટ્રીય પ્રિતબદ્ધતા, સ્થાિનક \\nકાર્યવાહી અને વ્યક્િતગત જવાબદારી દ્વારા, અમે આબોહવા પિરવર્તનના પડકારોનો સામનો \\nકરી શકીએ છીએ અને બધા માટે ટકાઉ ભિવષ્ય બનાવી શકીએ છીએ.')]"
      ]
     },
     "execution_count": 11,
     "metadata": {},
     "output_type": "execute_result"
    }
   ],
   "source": [
    "docs"
   ]
  },
  {
   "cell_type": "code",
   "execution_count": 12,
   "metadata": {
    "execution": {
     "iopub.execute_input": "2025-02-03T15:25:29.645206Z",
     "iopub.status.busy": "2025-02-03T15:25:29.644884Z",
     "iopub.status.idle": "2025-02-03T15:25:34.702209Z",
     "shell.execute_reply": "2025-02-03T15:25:34.701465Z",
     "shell.execute_reply.started": "2025-02-03T15:25:29.645178Z"
    },
    "trusted": true
   },
   "outputs": [
    {
     "name": "stderr",
     "output_type": "stream",
     "text": [
      "INFO - docarray - DB config created\n",
      "INFO - docarray - Runtime config created\n",
      "INFO - docarray - No docs or index file provided. Initializing empty InMemoryExactNNIndex.\n"
     ]
    }
   ],
   "source": [
    "embeddings = HuggingFaceEmbeddings(model_name=\"intfloat/multilingual-e5-large\")\n",
    "vectorstore = DocArrayInMemorySearch.from_documents(docs, embeddings)\n",
    "retriever = vectorstore.as_retriever(search_kwargs={\"k\": 5})"
   ]
  },
  {
   "cell_type": "code",
   "execution_count": 13,
   "metadata": {
    "execution": {
     "iopub.execute_input": "2025-02-03T15:25:36.809286Z",
     "iopub.status.busy": "2025-02-03T15:25:36.808986Z",
     "iopub.status.idle": "2025-02-03T15:25:36.813130Z",
     "shell.execute_reply": "2025-02-03T15:25:36.812190Z",
     "shell.execute_reply.started": "2025-02-03T15:25:36.809264Z"
    },
    "trusted": true
   },
   "outputs": [],
   "source": [
    "template = \"\"\"નીચે આપેલા સંદર્ભના આધારે પ્રશ્નનો જવાબ આપો.\n",
    "મહત્વપૂર્ણ માહિતી અને ઉદાહરણો સાથે વિગતવાર અને સરળ ભાષામાં સમજાવતો જવાબ આપો.\n",
    "જો તમારે ખબર ન હોય, તો કહો \"મને ખબર નથી\".\n",
    "\n",
    "📌 **સંદર્ભ:** {context}\n",
    "\n",
    "❓ **પ્રશ્ન:** {question}\n",
    "\n",
    "➡️ **વિગતવાર જવાબ:**\"\"\""
   ]
  },
  {
   "cell_type": "code",
   "execution_count": 14,
   "metadata": {
    "execution": {
     "iopub.execute_input": "2025-02-03T15:25:40.465271Z",
     "iopub.status.busy": "2025-02-03T15:25:40.464921Z",
     "iopub.status.idle": "2025-02-03T15:25:40.469178Z",
     "shell.execute_reply": "2025-02-03T15:25:40.468282Z",
     "shell.execute_reply.started": "2025-02-03T15:25:40.465241Z"
    },
    "trusted": true
   },
   "outputs": [],
   "source": [
    "prompt = PromptTemplate.from_template(template)"
   ]
  },
  {
   "cell_type": "code",
   "execution_count": 15,
   "metadata": {
    "execution": {
     "iopub.execute_input": "2025-02-03T15:25:46.171484Z",
     "iopub.status.busy": "2025-02-03T15:25:46.171185Z",
     "iopub.status.idle": "2025-02-03T15:25:48.049083Z",
     "shell.execute_reply": "2025-02-03T15:25:48.048413Z",
     "shell.execute_reply.started": "2025-02-03T15:25:46.171461Z"
    },
    "trusted": true
   },
   "outputs": [],
   "source": [
    "model_name = \"ai4bharat/indicbart\"\n",
    "tokenizer = AutoTokenizer.from_pretrained(model_name)\n",
    "model = AutoModelForSeq2SeqLM.from_pretrained(model_name).to(\"cuda\" if torch.cuda.is_available() else \"cpu\")"
   ]
  },
  {
   "cell_type": "code",
   "execution_count": 16,
   "metadata": {
    "execution": {
     "iopub.execute_input": "2025-02-03T15:25:49.530444Z",
     "iopub.status.busy": "2025-02-03T15:25:49.530104Z",
     "iopub.status.idle": "2025-02-03T15:25:49.535590Z",
     "shell.execute_reply": "2025-02-03T15:25:49.534657Z",
     "shell.execute_reply.started": "2025-02-03T15:25:49.530415Z"
    },
    "trusted": true
   },
   "outputs": [],
   "source": [
    "def generate_answer(question, context):\n",
    "    if not context.strip():\n",
    "        return \"માફ કરશો, હું સંદર્ભ શોધી શકતો નથી.\"\n",
    "\n",
    "    input_text = f\"પ્રશ્ન: {question}\\n\\nસંદર્ભ: {context}\"\n",
    "    inputs = tokenizer(input_text, return_tensors=\"pt\", truncation=True, max_length=512)\n",
    "\n",
    "    # Move inputs to correct device and remove 'token_type_ids' key if present\n",
    "    inputs = {key: value.to(\"cuda\" if torch.cuda.is_available() else \"cpu\") for key, value in inputs.items() if key != \"token_type_ids\"}\n",
    "\n",
    "    # Generate response\n",
    "    output = model.generate(**inputs, max_length=300)\n",
    "    answer = tokenizer.decode(output[0], skip_special_tokens=True)\n",
    "\n",
    "    return answer"
   ]
  },
  {
   "cell_type": "code",
   "execution_count": 17,
   "metadata": {
    "execution": {
     "iopub.execute_input": "2025-02-03T15:25:51.592621Z",
     "iopub.status.busy": "2025-02-03T15:25:51.592294Z",
     "iopub.status.idle": "2025-02-03T15:25:51.596442Z",
     "shell.execute_reply": "2025-02-03T15:25:51.595567Z",
     "shell.execute_reply.started": "2025-02-03T15:25:51.592591Z"
    },
    "trusted": true
   },
   "outputs": [],
   "source": [
    "def format_docs(docs):\n",
    "    return \"\\n\\n\".join([doc.page_content for doc in docs])"
   ]
  },
  {
   "cell_type": "code",
   "execution_count": 18,
   "metadata": {
    "execution": {
     "iopub.execute_input": "2025-02-03T15:25:58.552268Z",
     "iopub.status.busy": "2025-02-03T15:25:58.551973Z",
     "iopub.status.idle": "2025-02-03T15:26:20.824033Z",
     "shell.execute_reply": "2025-02-03T15:26:20.823143Z",
     "shell.execute_reply.started": "2025-02-03T15:25:58.552246Z"
    },
    "trusted": true
   },
   "outputs": [
    {
     "name": "stdout",
     "output_type": "stream",
     "text": [
      "🔥 **Gujarati Q&A System (Type 'exit' to quit)** 🔥\n",
      "\n"
     ]
    },
    {
     "name": "stdout",
     "output_type": "stream",
     "text": [
      "You:  જલવાયુ પરિવર્તન શાને કહેવાય?\n"
     ]
    },
    {
     "name": "stdout",
     "output_type": "stream",
     "text": [
      "\n",
      "🤖 **Bot:**\n",
      "📜 **Answer:**\n",
      "મ પ્રશ્ન: જલવાયુ પરિવર્તન શાને કમેવાય? સંમર્ટ: ક્લાટમેટ સેન્જ આમોોોોોોોોો પિરવર્તન એ આપોા સમયના સઅટી મમત્વકો્ટ મોોોોો મોો્મોોોો મુમ્ત મુમ્ોામ એક સે કોોોોો જીવનના મુમ્ત મુમ્ોામ સી સકી એક સે, જે આસોા જીવનના સ્લાસામને મરે મરે મરે મેટ કરે મર્ો સમોોમરોોમરોોી લોમે કર્ો્ર્ટ, મરોોા સમોોોોો સમોો સઅટો. તે [CLS]\n",
      "\n",
      "📚 **Sources:**\n",
      "- /kaggle/input/fhcbahbi/Climate Change.en.gu.pdf (Page 1)\n",
      "- /kaggle/input/fhcbahbi/Climate Change.en.gu.pdf (Page 2)\n",
      "- /kaggle/input/fhcbahbi/Climate Change.en.gu.pdf (Page 2)\n",
      "\n",
      "————————————————————————————————————————————————————————————\n",
      "\n"
     ]
    },
    {
     "name": "stdout",
     "output_type": "stream",
     "text": [
      "You:  exit\n"
     ]
    },
    {
     "name": "stdout",
     "output_type": "stream",
     "text": [
      "👋 બહાર નીકળે છે... સુખદ દિવસ! 🙌\n"
     ]
    }
   ],
   "source": [
    "\n",
    "\n",
    "# ✅ Start Interactive Q&A Loop\n",
    "print(\"🔥 **Gujarati Q&A System (Type 'exit' to quit)** 🔥\\n\")\n",
    "\n",
    "while True:\n",
    "    # Get user input\n",
    "    question = input(\"You: \")\n",
    "    \n",
    "    if question.lower().strip() == 'exit':\n",
    "        print(\"👋 બહાર નીકળે છે... સુખદ દિવસ! 🙌\")\n",
    "        break\n",
    "        \n",
    "    if not question.strip():\n",
    "        print(\"⚠️ કૃપા કરીને યોગ્ય પ્રશ્ન દાખલ કરો.\\n\")\n",
    "        continue\n",
    "    \n",
    "    # Retrieve relevant context\n",
    "    retrieved_docs = retriever.get_relevant_documents(question)\n",
    "    context = format_docs(retrieved_docs) if retrieved_docs else \"માફ કરશો, હું સંદર્ભ શોધી શકતો નથી.\"\n",
    "\n",
    "    # Generate answer\n",
    "    answer = generate_answer(question, context)\n",
    "    \n",
    "    print(\"\\n🤖 **Bot:**\")\n",
    "    print(f\"📜 **Answer:**\\n{answer}\\n\")\n",
    "    \n",
    "    # Display sources\n",
    "    print(\"📚 **Sources:**\")\n",
    "    for doc in retrieved_docs[:3]:  \n",
    "        print(f\"- {doc.metadata['source']} (Page {doc.metadata['page']+1})\") \n",
    "    \n",
    "    print(\"\\n\" + \"—\" * 60 + \"\\n\")"
   ]
  },
  {
   "cell_type": "code",
   "execution_count": null,
   "metadata": {
    "trusted": true
   },
   "outputs": [],
   "source": []
  },
  {
   "cell_type": "code",
   "execution_count": null,
   "metadata": {
    "trusted": true
   },
   "outputs": [],
   "source": []
  },
  {
   "cell_type": "code",
   "execution_count": null,
   "metadata": {
    "trusted": true
   },
   "outputs": [],
   "source": []
  },
  {
   "cell_type": "code",
   "execution_count": null,
   "metadata": {
    "trusted": true
   },
   "outputs": [],
   "source": []
  },
  {
   "cell_type": "code",
   "execution_count": null,
   "metadata": {
    "trusted": true
   },
   "outputs": [],
   "source": []
  },
  {
   "cell_type": "code",
   "execution_count": null,
   "metadata": {
    "trusted": true
   },
   "outputs": [],
   "source": []
  },
  {
   "cell_type": "code",
   "execution_count": null,
   "metadata": {
    "trusted": true
   },
   "outputs": [],
   "source": []
  },
  {
   "cell_type": "code",
   "execution_count": null,
   "metadata": {
    "trusted": true
   },
   "outputs": [],
   "source": []
  },
  {
   "cell_type": "code",
   "execution_count": null,
   "metadata": {
    "trusted": true
   },
   "outputs": [],
   "source": []
  },
  {
   "cell_type": "code",
   "execution_count": null,
   "metadata": {
    "trusted": true
   },
   "outputs": [],
   "source": []
  },
  {
   "cell_type": "code",
   "execution_count": null,
   "metadata": {
    "trusted": true
   },
   "outputs": [],
   "source": [
    "# # Install required packages (uncomment if running for the first time)\n",
    "# !pip install -q langchain huggingface_hub transformers torch sentencepiece pypdf docarray\n",
    "\n",
    "# import os\n",
    "# from langchain.document_loaders import PyPDFLoader\n",
    "# from langchain.text_splitter import RecursiveCharacterTextSplitter\n",
    "# from langchain.embeddings import HuggingFaceEmbeddings\n",
    "# from langchain.vectorstores import DocArrayInMemorySearch\n",
    "# from langchain.chains import RetrievalQA\n",
    "# from langchain.llms import HuggingFaceHub\n",
    "# from langchain.prompts import PromptTemplate\n",
    "\n",
    "# # ✅ Load PDF (Update path if needed)\n",
    "# loader = PyPDFLoader(\"/kaggle/input/egjbbjb/Climate Change.pdf\")  # Update with actual path\n",
    "# pages = loader.load()\n",
    "\n",
    "# # ✅ Split documents for better retrieval\n",
    "# text_splitter = RecursiveCharacterTextSplitter(chunk_size=1000, chunk_overlap=200)\n",
    "# docs = text_splitter.split_documents(pages)\n",
    "\n",
    "# # ✅ Create embeddings using Hugging Face model\n",
    "# embeddings = HuggingFaceEmbeddings(model_name=\"sentence-transformers/all-mpnet-base-v2\")\n",
    "\n",
    "# # ✅ Store documents in a vector database\n",
    "# vectorstore = DocArrayInMemorySearch.from_documents(docs, embeddings)\n",
    "\n",
    "# # ✅ Retrieve more relevant documents (k=5 for richer context)\n",
    "# retriever = vectorstore.as_retriever(search_kwargs={\"k\": 5})\n",
    "\n",
    "# # ✅ Improved Prompt Template for More Detailed Responses\n",
    "# template = \"\"\"Answer the question based on the context below. \n",
    "# Provide a **detailed and well-explained** response. If you are unsure, say \"I don't know\".\n",
    "\n",
    "# Context: {context}\n",
    "\n",
    "# Question: {question}\n",
    "\n",
    "# Provide a **thorough** answer with examples, statistics, and insights:\n",
    "\n",
    "# Answer:\"\"\"\n",
    "# prompt = PromptTemplate.from_template(template)\n",
    "\n",
    "# # ✅ Set Hugging Face API Token (Get from https://huggingface.co/settings/tokens)\n",
    "# os.environ[\"HUGGINGFACEHUB_API_TOKEN\"] = \"xxxxxxxxxxxxxxxxxxxxxxx\"  # Replace with your token\n",
    "\n",
    "# # ✅ Choose a more powerful LLM for longer responses\n",
    "# llm = HuggingFaceHub(\n",
    "#     repo_id=\"google/flan-t5-large\",  # Upgrade to a larger model (try flan-t5-xxl or Llama-2)\n",
    "#     model_kwargs={\"temperature\": 0.2, \"max_length\": 1500}  # Increased max_length for detailed responses\n",
    "# )\n",
    "\n",
    "# # ✅ Function to Format Retrieved Documents (Concatenation)\n",
    "# def format_docs(docs):\n",
    "#     return \"\\n\\n\".join([doc.page_content for doc in docs])  # Combine retrieved chunks\n",
    "\n",
    "# # ✅ Build RAG-Based RetrievalQA Chain\n",
    "# qa_chain = RetrievalQA.from_chain_type(\n",
    "#     llm=llm,\n",
    "#     chain_type=\"stuff\",\n",
    "#     retriever=retriever,\n",
    "#     chain_type_kwargs={\"prompt\": prompt},\n",
    "#     return_source_documents=True\n",
    "# )\n",
    "\n",
    "# # ✅ Interactive Q&A Loop\n",
    "# print(\"🔥 Climate Change Q&A System (Type 'exit' to quit) 🔥\\n\")\n",
    "\n",
    "# while True:\n",
    "#     # Get user input\n",
    "#     question = input(\"You: \")\n",
    "    \n",
    "#     if question.lower().strip() == 'exit':\n",
    "#         print(\"👋 Exiting... Have a great day!\")\n",
    "#         break\n",
    "        \n",
    "#     if not question.strip():\n",
    "#         print(\"⚠️ Please enter a valid question.\\n\")\n",
    "#         continue\n",
    "    \n",
    "#     # Process question\n",
    "#     result = qa_chain({\"query\": question})\n",
    "    \n",
    "#     # Display results\n",
    "#     print(\"\\n🤖 Bot:\")\n",
    "#     print(f\"📜 **Answer:**\\n{result['result']}\\n\")\n",
    "    \n",
    "#     # ✅ Show multiple sources for better transparency\n",
    "#     print(\"📚 **Sources:**\")\n",
    "#     for doc in result['source_documents'][:3]: \n",
    "#         print(f\"- {doc.metadata['source']} (Page {doc.metadata['page']+1})\")\n",
    "    \n",
    "#     print(\"\\n\" + \"—\" * 60 + \"\\n\")"
   ]
  },
  {
   "cell_type": "code",
   "execution_count": null,
   "metadata": {
    "trusted": true
   },
   "outputs": [],
   "source": [
    "# # Install required packages\n",
    "# !pip install -q langchain huggingface_hub transformers torch sentencepiece pypdf docarray\n",
    "\n",
    "# from langchain.document_loaders import PyPDFLoader\n",
    "# from langchain.text_splitter import RecursiveCharacterTextSplitter\n",
    "# from langchain.embeddings import HuggingFaceEmbeddings\n",
    "# from langchain.vectorstores import DocArrayInMemorySearch\n",
    "# from langchain.chains import RetrievalQA\n",
    "# from langchain.llms import HuggingFaceHub\n",
    "# from langchain.prompts import PromptTemplate\n",
    "\n",
    "# # Load PDF (Upload your PDF to Kaggle first)\n",
    "# # Click \"+ Add data\" button on right panel and upload your PDF\n",
    "# loader = PyPDFLoader(\"/kaggle/input/egjbbjb/Climate Change.pdf\")  # Update path\n",
    "# pages = loader.load()\n",
    "\n",
    "# # Split documents\n",
    "# text_splitter = RecursiveCharacterTextSplitter(\n",
    "#     chunk_size=1000,\n",
    "#     chunk_overlap=200\n",
    "# )\n",
    "# docs = text_splitter.split_documents(pages)\n",
    "\n",
    "# # Create embeddings\n",
    "# embeddings = HuggingFaceEmbeddings(\n",
    "#     model_name=\"sentence-transformers/all-mpnet-base-v2\"\n",
    "# )\n",
    "\n",
    "# # Create vector store\n",
    "# vectorstore = DocArrayInMemorySearch.from_documents(\n",
    "#     docs,\n",
    "#     embeddings\n",
    "# )\n",
    "\n",
    "# # Create retriever\n",
    "# retriever = vectorstore.as_retriever(search_kwargs={\"k\": 5})\n",
    "\n",
    "# template = \"\"\"Answer the question in a detailed and comprehensive manner based on the context below. \n",
    "# If you can't answer, say \"I don't know\".\n",
    "\n",
    "# Context: {context}\n",
    "\n",
    "# Question: {question}\n",
    "\n",
    "# Provide a detailed answer with explanations, examples, and relevant information:\n",
    "\n",
    "# Answer:\"\"\"\n",
    "\n",
    "\n",
    "# # Initialize model (using free Hugging Face Hub inference API)\n",
    "# # Create free token at https://huggingface.co/settings/tokens\n",
    "# import os\n",
    "# os.environ[\"HUGGINGFACEHUB_API_TOKEN\"] = \"XXXXXXXXXXXXXXXXXXXXXXXXXXXXXXXXXXx\"  # Replace with your token\n",
    "\n",
    "# llm = HuggingFaceHub(\n",
    "#     repo_id=\"google/flan-t5-large\",\n",
    "#     model_kwargs={\"temperature\": 0.2, \"max_length\": 1500}\n",
    "# )\n",
    "\n",
    "# # Create QA chain\n",
    "# qa_chain = RetrievalQA.from_chain_type(\n",
    "#     llm=llm,\n",
    "#     chain_type=\"stuff\",\n",
    "#     retriever=retriever,\n",
    "#     chain_type_kwargs={\"prompt\": prompt},\n",
    "#     return_source_documents=True\n",
    "# )\n",
    "\n",
    "# # Test the system\n",
    "# questions = [\n",
    "#     \"What is the greenhouse effect?\",\n",
    "#     \"What is the primary driver of recent climate change?\",\n",
    "#     \"How much has sea level risen since 1900?\"\n",
    "# ]\n",
    "\n",
    "# for question in questions:\n",
    "#     print(f\"Question: {question}\")\n",
    "#     result = qa_chain({\"query\": question})\n",
    "#     print(f\"Answer: {result['result']}\\n\")\n",
    "#     print(\"Sources:\")\n",
    "#     for doc in result['source_documents'][:1]:  # Show top 1 source\n",
    "#         print(f\"- {doc.metadata['source']} (page {doc.metadata['page']})\\n\")\n",
    "#     print(\"---\"*20)"
   ]
  },
  {
   "cell_type": "code",
   "execution_count": null,
   "metadata": {
    "trusted": true
   },
   "outputs": [],
   "source": [
    "# # ... (keep all previous code until the QA chain setup)\n",
    "\n",
    "# # Interactive Q&A loop\n",
    "# print(\"Climate Change Q&A System (type 'exit' to quit)\\n\")\n",
    "\n",
    "# while True:\n",
    "#     # Get user input\n",
    "#     question = input(\"You: \")\n",
    "    \n",
    "#     if question.lower().strip() == 'exit':\n",
    "#         print(\"Exiting...\")\n",
    "#         break\n",
    "        \n",
    "#     if not question.strip():\n",
    "#         print(\"Please enter a valid question.\\n\")\n",
    "#         continue\n",
    "    \n",
    "#     # Process question\n",
    "#     result = qa_chain({\"query\": question})\n",
    "    \n",
    "#     # Display results\n",
    "#     print(\"\\nBot:\")\n",
    "#     print(f\"Answer: {result['result']}\")\n",
    "#     print(\"\\nSources:\")\n",
    "#     for doc in result['source_documents'][:1]:  # Show top 1 source\n",
    "#         print(f\"- {doc.metadata['source']} (page {doc.metadata['page']+1})\")  # +1 for human-readable page numbers\n",
    "#     print(\"\\n\" + \"---\"*20 + \"\\n\")"
   ]
  },
  {
   "cell_type": "code",
   "execution_count": null,
   "metadata": {
    "trusted": true
   },
   "outputs": [],
   "source": []
  }
 ],
 "metadata": {
  "kaggle": {
   "accelerator": "nvidiaTeslaT4",
   "dataSources": [
    {
     "datasetId": 6588524,
     "sourceId": 10641194,
     "sourceType": "datasetVersion"
    },
    {
     "datasetId": 6593583,
     "sourceId": 10648745,
     "sourceType": "datasetVersion"
    },
    {
     "datasetId": 6595063,
     "sourceId": 10650696,
     "sourceType": "datasetVersion"
    }
   ],
   "dockerImageVersionId": 30839,
   "isGpuEnabled": true,
   "isInternetEnabled": true,
   "language": "python",
   "sourceType": "notebook"
  },
  "kernelspec": {
   "display_name": "Python 3",
   "language": "python",
   "name": "python3"
  },
  "language_info": {
   "codemirror_mode": {
    "name": "ipython",
    "version": 3
   },
   "file_extension": ".py",
   "mimetype": "text/x-python",
   "name": "python",
   "nbconvert_exporter": "python",
   "pygments_lexer": "ipython3",
   "version": "3.10.12"
  }
 },
 "nbformat": 4,
 "nbformat_minor": 4
}
